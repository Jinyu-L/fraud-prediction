{
 "cells": [
  {
   "cell_type": "markdown",
   "metadata": {},
   "source": [
    "# Predicting Financial Fraud of Firms\n",
    "## Introduction\n",
    "\n",
    "Firms report financial statements for every quarter and annual period. These statements are first reported internally by the organization, which in turn must be audited by accredited auditing firms to verify that the reports are accurate. Firms may be incentivized to create fraud within their reports for financial benefits such as taxation and value inflation. Thus, the paper and data report the findings when an external auditing firm runs various methods such as F Measures, Type l-ll errors, and Correlation Coefficients to detect fraud.\n",
    "\n",
    "Our project will try to determine if our selected variables can form a model to accurately predict whether or not a firm is fraudulent. In other words, the project will utilize KNN classification to classify firms as fraudulent or non-fraudulent based on given variables.\n",
    "\n",
    "The dataset that will be used to answer this question is Audit Data. Audit Data contains risk factor classifications and methods used by the external auditing firm. Specifically, the data contains reports from 777 firms from 46 different listings and 14 different sector scores. Some examples of the different risk factors include discrepancy values found in auditing reports, historical risk values, and average historical loss suffered by firms in the last 10 years.\n",
    "\n",
    "\n",
    "## Wrangling and Exploring the Data\n",
    "\n",
    "First, we load the libraries that we need, which are tidyverse, tidymodels, repr, and GGally."
   ]
  },
  {
   "cell_type": "code",
   "execution_count": 61,
   "metadata": {},
   "outputs": [],
   "source": [
    "library(tidyverse)\n",
    "library(tidymodels)\n",
    "library(repr)\n",
    "library(GGally)"
   ]
  },
  {
   "cell_type": "markdown",
   "metadata": {},
   "source": [
    "Now we want to download the data from the url. Since it is in .zip format, we have to download it before unzipping and then using read_csv(). The file \"audit_risk.csv\" is the one with the data that we want to use to create our classification."
   ]
  },
  {
   "cell_type": "code",
   "execution_count": 62,
   "metadata": {},
   "outputs": [
    {
     "name": "stderr",
     "output_type": "stream",
     "text": [
      "Warning message:\n",
      "“Duplicated column names deduplicated: 'Score_B' => 'Score_B_1' [11]”\n",
      "Parsed with column specification:\n",
      "cols(\n",
      "  .default = col_double(),\n",
      "  LOCATION_ID = \u001b[31mcol_character()\u001b[39m\n",
      ")\n",
      "\n",
      "See spec(...) for full column specifications.\n",
      "\n"
     ]
    },
    {
     "data": {
      "text/html": [
       "<table>\n",
       "<caption>A tibble: 3 × 27</caption>\n",
       "<thead>\n",
       "\t<tr><th scope=col>Sector_score</th><th scope=col>LOCATION_ID</th><th scope=col>PARA_A</th><th scope=col>Score_A</th><th scope=col>Risk_A</th><th scope=col>PARA_B</th><th scope=col>Score_B</th><th scope=col>Risk_B</th><th scope=col>TOTAL</th><th scope=col>numbers</th><th scope=col>⋯</th><th scope=col>RiSk_E</th><th scope=col>History</th><th scope=col>Prob</th><th scope=col>Risk_F</th><th scope=col>Score</th><th scope=col>Inherent_Risk</th><th scope=col>CONTROL_RISK</th><th scope=col>Detection_Risk</th><th scope=col>Audit_Risk</th><th scope=col>Risk</th></tr>\n",
       "\t<tr><th scope=col>&lt;dbl&gt;</th><th scope=col>&lt;chr&gt;</th><th scope=col>&lt;dbl&gt;</th><th scope=col>&lt;dbl&gt;</th><th scope=col>&lt;dbl&gt;</th><th scope=col>&lt;dbl&gt;</th><th scope=col>&lt;dbl&gt;</th><th scope=col>&lt;dbl&gt;</th><th scope=col>&lt;dbl&gt;</th><th scope=col>&lt;dbl&gt;</th><th scope=col>⋯</th><th scope=col>&lt;dbl&gt;</th><th scope=col>&lt;dbl&gt;</th><th scope=col>&lt;dbl&gt;</th><th scope=col>&lt;dbl&gt;</th><th scope=col>&lt;dbl&gt;</th><th scope=col>&lt;dbl&gt;</th><th scope=col>&lt;dbl&gt;</th><th scope=col>&lt;dbl&gt;</th><th scope=col>&lt;dbl&gt;</th><th scope=col>&lt;dbl&gt;</th></tr>\n",
       "</thead>\n",
       "<tbody>\n",
       "\t<tr><td>3.89</td><td>23</td><td>4.18</td><td>0.6</td><td>2.508</td><td>2.50</td><td>0.2</td><td>0.500</td><td>6.68</td><td>5</td><td>⋯</td><td>0.4</td><td>0</td><td>0.2</td><td>0</td><td>2.4</td><td>8.574</td><td>0.4</td><td>0.5</td><td>1.7148</td><td>1</td></tr>\n",
       "\t<tr><td>3.89</td><td>6 </td><td>0.00</td><td>0.2</td><td>0.000</td><td>4.83</td><td>0.2</td><td>0.966</td><td>4.83</td><td>5</td><td>⋯</td><td>0.4</td><td>0</td><td>0.2</td><td>0</td><td>2.0</td><td>2.554</td><td>0.4</td><td>0.5</td><td>0.5108</td><td>0</td></tr>\n",
       "\t<tr><td>3.89</td><td>6 </td><td>0.51</td><td>0.2</td><td>0.102</td><td>0.23</td><td>0.2</td><td>0.046</td><td>0.74</td><td>5</td><td>⋯</td><td>0.4</td><td>0</td><td>0.2</td><td>0</td><td>2.0</td><td>1.548</td><td>0.4</td><td>0.5</td><td>0.3096</td><td>0</td></tr>\n",
       "</tbody>\n",
       "</table>\n"
      ],
      "text/latex": [
       "A tibble: 3 × 27\n",
       "\\begin{tabular}{lllllllllllllllllllll}\n",
       " Sector\\_score & LOCATION\\_ID & PARA\\_A & Score\\_A & Risk\\_A & PARA\\_B & Score\\_B & Risk\\_B & TOTAL & numbers & ⋯ & RiSk\\_E & History & Prob & Risk\\_F & Score & Inherent\\_Risk & CONTROL\\_RISK & Detection\\_Risk & Audit\\_Risk & Risk\\\\\n",
       " <dbl> & <chr> & <dbl> & <dbl> & <dbl> & <dbl> & <dbl> & <dbl> & <dbl> & <dbl> & ⋯ & <dbl> & <dbl> & <dbl> & <dbl> & <dbl> & <dbl> & <dbl> & <dbl> & <dbl> & <dbl>\\\\\n",
       "\\hline\n",
       "\t 3.89 & 23 & 4.18 & 0.6 & 2.508 & 2.50 & 0.2 & 0.500 & 6.68 & 5 & ⋯ & 0.4 & 0 & 0.2 & 0 & 2.4 & 8.574 & 0.4 & 0.5 & 1.7148 & 1\\\\\n",
       "\t 3.89 & 6  & 0.00 & 0.2 & 0.000 & 4.83 & 0.2 & 0.966 & 4.83 & 5 & ⋯ & 0.4 & 0 & 0.2 & 0 & 2.0 & 2.554 & 0.4 & 0.5 & 0.5108 & 0\\\\\n",
       "\t 3.89 & 6  & 0.51 & 0.2 & 0.102 & 0.23 & 0.2 & 0.046 & 0.74 & 5 & ⋯ & 0.4 & 0 & 0.2 & 0 & 2.0 & 1.548 & 0.4 & 0.5 & 0.3096 & 0\\\\\n",
       "\\end{tabular}\n"
      ],
      "text/markdown": [
       "\n",
       "A tibble: 3 × 27\n",
       "\n",
       "| Sector_score &lt;dbl&gt; | LOCATION_ID &lt;chr&gt; | PARA_A &lt;dbl&gt; | Score_A &lt;dbl&gt; | Risk_A &lt;dbl&gt; | PARA_B &lt;dbl&gt; | Score_B &lt;dbl&gt; | Risk_B &lt;dbl&gt; | TOTAL &lt;dbl&gt; | numbers &lt;dbl&gt; | ⋯ ⋯ | RiSk_E &lt;dbl&gt; | History &lt;dbl&gt; | Prob &lt;dbl&gt; | Risk_F &lt;dbl&gt; | Score &lt;dbl&gt; | Inherent_Risk &lt;dbl&gt; | CONTROL_RISK &lt;dbl&gt; | Detection_Risk &lt;dbl&gt; | Audit_Risk &lt;dbl&gt; | Risk &lt;dbl&gt; |\n",
       "|---|---|---|---|---|---|---|---|---|---|---|---|---|---|---|---|---|---|---|---|---|\n",
       "| 3.89 | 23 | 4.18 | 0.6 | 2.508 | 2.50 | 0.2 | 0.500 | 6.68 | 5 | ⋯ | 0.4 | 0 | 0.2 | 0 | 2.4 | 8.574 | 0.4 | 0.5 | 1.7148 | 1 |\n",
       "| 3.89 | 6  | 0.00 | 0.2 | 0.000 | 4.83 | 0.2 | 0.966 | 4.83 | 5 | ⋯ | 0.4 | 0 | 0.2 | 0 | 2.0 | 2.554 | 0.4 | 0.5 | 0.5108 | 0 |\n",
       "| 3.89 | 6  | 0.51 | 0.2 | 0.102 | 0.23 | 0.2 | 0.046 | 0.74 | 5 | ⋯ | 0.4 | 0 | 0.2 | 0 | 2.0 | 1.548 | 0.4 | 0.5 | 0.3096 | 0 |\n",
       "\n"
      ],
      "text/plain": [
       "  Sector_score LOCATION_ID PARA_A Score_A Risk_A PARA_B Score_B Risk_B TOTAL\n",
       "1 3.89         23          4.18   0.6     2.508  2.50   0.2     0.500  6.68 \n",
       "2 3.89         6           0.00   0.2     0.000  4.83   0.2     0.966  4.83 \n",
       "3 3.89         6           0.51   0.2     0.102  0.23   0.2     0.046  0.74 \n",
       "  numbers ⋯ RiSk_E History Prob Risk_F Score Inherent_Risk CONTROL_RISK\n",
       "1 5       ⋯ 0.4    0       0.2  0      2.4   8.574         0.4         \n",
       "2 5       ⋯ 0.4    0       0.2  0      2.0   2.554         0.4         \n",
       "3 5       ⋯ 0.4    0       0.2  0      2.0   1.548         0.4         \n",
       "  Detection_Risk Audit_Risk Risk\n",
       "1 0.5            1.7148     1   \n",
       "2 0.5            0.5108     0   \n",
       "3 0.5            0.3096     0   "
      ]
     },
     "metadata": {},
     "output_type": "display_data"
    }
   ],
   "source": [
    "url <- \"https://archive.ics.uci.edu/ml/machine-learning-databases/00475/audit_data.zip\"\n",
    "download.file(url, \"audit_data.zip\")\n",
    "unzip(\"audit_data.zip\")\n",
    "\n",
    "audit_risk_data_main <- read_csv(\"audit_data/audit_risk.csv\")\n",
    "head(audit_risk_data_main, 3) ### show the first 3 rows of the data to see if it is tidy."
   ]
  },
  {
   "cell_type": "markdown",
   "metadata": {},
   "source": [
    "We are determining risk through classification, so the column type needs to be converted to a factor.\n",
    "\n",
    "The data appears to be tidy. Each column is one variable, each row is one observation, and each cell has exactly one value. Therefore, we will not need to wrangle the data."
   ]
  },
  {
   "cell_type": "code",
   "execution_count": 63,
   "metadata": {},
   "outputs": [
    {
     "data": {
      "text/html": [
       "<table>\n",
       "<caption>A tibble: 3 × 27</caption>\n",
       "<thead>\n",
       "\t<tr><th scope=col>Sector_score</th><th scope=col>LOCATION_ID</th><th scope=col>PARA_A</th><th scope=col>Score_A</th><th scope=col>Risk_A</th><th scope=col>PARA_B</th><th scope=col>Score_B</th><th scope=col>Risk_B</th><th scope=col>TOTAL</th><th scope=col>numbers</th><th scope=col>⋯</th><th scope=col>RiSk_E</th><th scope=col>History</th><th scope=col>Prob</th><th scope=col>Risk_F</th><th scope=col>Score</th><th scope=col>Inherent_Risk</th><th scope=col>CONTROL_RISK</th><th scope=col>Detection_Risk</th><th scope=col>Audit_Risk</th><th scope=col>Risk</th></tr>\n",
       "\t<tr><th scope=col>&lt;dbl&gt;</th><th scope=col>&lt;chr&gt;</th><th scope=col>&lt;dbl&gt;</th><th scope=col>&lt;dbl&gt;</th><th scope=col>&lt;dbl&gt;</th><th scope=col>&lt;dbl&gt;</th><th scope=col>&lt;dbl&gt;</th><th scope=col>&lt;dbl&gt;</th><th scope=col>&lt;dbl&gt;</th><th scope=col>&lt;dbl&gt;</th><th scope=col>⋯</th><th scope=col>&lt;dbl&gt;</th><th scope=col>&lt;dbl&gt;</th><th scope=col>&lt;dbl&gt;</th><th scope=col>&lt;dbl&gt;</th><th scope=col>&lt;dbl&gt;</th><th scope=col>&lt;dbl&gt;</th><th scope=col>&lt;dbl&gt;</th><th scope=col>&lt;dbl&gt;</th><th scope=col>&lt;dbl&gt;</th><th scope=col>&lt;fct&gt;</th></tr>\n",
       "</thead>\n",
       "<tbody>\n",
       "\t<tr><td>3.89</td><td>23</td><td>4.18</td><td>0.6</td><td>2.508</td><td>2.50</td><td>0.2</td><td>0.500</td><td>6.68</td><td>5</td><td>⋯</td><td>0.4</td><td>0</td><td>0.2</td><td>0</td><td>2.4</td><td>8.574</td><td>0.4</td><td>0.5</td><td>1.7148</td><td>1</td></tr>\n",
       "\t<tr><td>3.89</td><td>6 </td><td>0.00</td><td>0.2</td><td>0.000</td><td>4.83</td><td>0.2</td><td>0.966</td><td>4.83</td><td>5</td><td>⋯</td><td>0.4</td><td>0</td><td>0.2</td><td>0</td><td>2.0</td><td>2.554</td><td>0.4</td><td>0.5</td><td>0.5108</td><td>0</td></tr>\n",
       "\t<tr><td>3.89</td><td>6 </td><td>0.51</td><td>0.2</td><td>0.102</td><td>0.23</td><td>0.2</td><td>0.046</td><td>0.74</td><td>5</td><td>⋯</td><td>0.4</td><td>0</td><td>0.2</td><td>0</td><td>2.0</td><td>1.548</td><td>0.4</td><td>0.5</td><td>0.3096</td><td>0</td></tr>\n",
       "</tbody>\n",
       "</table>\n"
      ],
      "text/latex": [
       "A tibble: 3 × 27\n",
       "\\begin{tabular}{lllllllllllllllllllll}\n",
       " Sector\\_score & LOCATION\\_ID & PARA\\_A & Score\\_A & Risk\\_A & PARA\\_B & Score\\_B & Risk\\_B & TOTAL & numbers & ⋯ & RiSk\\_E & History & Prob & Risk\\_F & Score & Inherent\\_Risk & CONTROL\\_RISK & Detection\\_Risk & Audit\\_Risk & Risk\\\\\n",
       " <dbl> & <chr> & <dbl> & <dbl> & <dbl> & <dbl> & <dbl> & <dbl> & <dbl> & <dbl> & ⋯ & <dbl> & <dbl> & <dbl> & <dbl> & <dbl> & <dbl> & <dbl> & <dbl> & <dbl> & <fct>\\\\\n",
       "\\hline\n",
       "\t 3.89 & 23 & 4.18 & 0.6 & 2.508 & 2.50 & 0.2 & 0.500 & 6.68 & 5 & ⋯ & 0.4 & 0 & 0.2 & 0 & 2.4 & 8.574 & 0.4 & 0.5 & 1.7148 & 1\\\\\n",
       "\t 3.89 & 6  & 0.00 & 0.2 & 0.000 & 4.83 & 0.2 & 0.966 & 4.83 & 5 & ⋯ & 0.4 & 0 & 0.2 & 0 & 2.0 & 2.554 & 0.4 & 0.5 & 0.5108 & 0\\\\\n",
       "\t 3.89 & 6  & 0.51 & 0.2 & 0.102 & 0.23 & 0.2 & 0.046 & 0.74 & 5 & ⋯ & 0.4 & 0 & 0.2 & 0 & 2.0 & 1.548 & 0.4 & 0.5 & 0.3096 & 0\\\\\n",
       "\\end{tabular}\n"
      ],
      "text/markdown": [
       "\n",
       "A tibble: 3 × 27\n",
       "\n",
       "| Sector_score &lt;dbl&gt; | LOCATION_ID &lt;chr&gt; | PARA_A &lt;dbl&gt; | Score_A &lt;dbl&gt; | Risk_A &lt;dbl&gt; | PARA_B &lt;dbl&gt; | Score_B &lt;dbl&gt; | Risk_B &lt;dbl&gt; | TOTAL &lt;dbl&gt; | numbers &lt;dbl&gt; | ⋯ ⋯ | RiSk_E &lt;dbl&gt; | History &lt;dbl&gt; | Prob &lt;dbl&gt; | Risk_F &lt;dbl&gt; | Score &lt;dbl&gt; | Inherent_Risk &lt;dbl&gt; | CONTROL_RISK &lt;dbl&gt; | Detection_Risk &lt;dbl&gt; | Audit_Risk &lt;dbl&gt; | Risk &lt;fct&gt; |\n",
       "|---|---|---|---|---|---|---|---|---|---|---|---|---|---|---|---|---|---|---|---|---|\n",
       "| 3.89 | 23 | 4.18 | 0.6 | 2.508 | 2.50 | 0.2 | 0.500 | 6.68 | 5 | ⋯ | 0.4 | 0 | 0.2 | 0 | 2.4 | 8.574 | 0.4 | 0.5 | 1.7148 | 1 |\n",
       "| 3.89 | 6  | 0.00 | 0.2 | 0.000 | 4.83 | 0.2 | 0.966 | 4.83 | 5 | ⋯ | 0.4 | 0 | 0.2 | 0 | 2.0 | 2.554 | 0.4 | 0.5 | 0.5108 | 0 |\n",
       "| 3.89 | 6  | 0.51 | 0.2 | 0.102 | 0.23 | 0.2 | 0.046 | 0.74 | 5 | ⋯ | 0.4 | 0 | 0.2 | 0 | 2.0 | 1.548 | 0.4 | 0.5 | 0.3096 | 0 |\n",
       "\n"
      ],
      "text/plain": [
       "  Sector_score LOCATION_ID PARA_A Score_A Risk_A PARA_B Score_B Risk_B TOTAL\n",
       "1 3.89         23          4.18   0.6     2.508  2.50   0.2     0.500  6.68 \n",
       "2 3.89         6           0.00   0.2     0.000  4.83   0.2     0.966  4.83 \n",
       "3 3.89         6           0.51   0.2     0.102  0.23   0.2     0.046  0.74 \n",
       "  numbers ⋯ RiSk_E History Prob Risk_F Score Inherent_Risk CONTROL_RISK\n",
       "1 5       ⋯ 0.4    0       0.2  0      2.4   8.574         0.4         \n",
       "2 5       ⋯ 0.4    0       0.2  0      2.0   2.554         0.4         \n",
       "3 5       ⋯ 0.4    0       0.2  0      2.0   1.548         0.4         \n",
       "  Detection_Risk Audit_Risk Risk\n",
       "1 0.5            1.7148     1   \n",
       "2 0.5            0.5108     0   \n",
       "3 0.5            0.3096     0   "
      ]
     },
     "metadata": {},
     "output_type": "display_data"
    }
   ],
   "source": [
    "audit_risk_data_main <- mutate(audit_risk_data_main, Risk = as_factor(Risk))\n",
    "head(audit_risk_data_main, 3)"
   ]
  },
  {
   "cell_type": "markdown",
   "metadata": {},
   "source": [
    "Now that the main table has been loaded, we can separate it into the training and testing data sets. We set the seed so the split is the same everytime and then use initial_split to perform the split."
   ]
  },
  {
   "cell_type": "code",
   "execution_count": 64,
   "metadata": {},
   "outputs": [],
   "source": [
    "### SET THE SEED\n",
    "set.seed(18)\n",
    "### DO NOT CHANGE\n",
    "\n",
    "audit_risk_data_split <- initial_split(audit_risk_data_main, prop = 2/3, strata = Risk)\n",
    "audit_risk_data_training <- training(audit_risk_data_split)\n",
    "audit_risk_data_testing <- testing(audit_risk_data_split)"
   ]
  },
  {
   "cell_type": "markdown",
   "metadata": {},
   "source": [
    "## Visualizing the Training Data\n",
    "\n",
    "We should examine the data to see possible trends. We can get rid of the columns that we will not be using and then calculate the mean, median, standard deviation, min, and max to get a general sense of the numbers."
   ]
  },
  {
   "cell_type": "code",
   "execution_count": 65,
   "metadata": {},
   "outputs": [
    {
     "data": {
      "text/html": [
       "<table>\n",
       "<caption>A tibble: 5 × 4</caption>\n",
       "<thead>\n",
       "\t<tr><th scope=col>History</th><th scope=col>TOTAL</th><th scope=col>Money_Value</th><th scope=col>Stat</th></tr>\n",
       "\t<tr><th scope=col>&lt;dbl&gt;</th><th scope=col>&lt;dbl&gt;</th><th scope=col>&lt;dbl&gt;</th><th scope=col>&lt;chr&gt;</th></tr>\n",
       "</thead>\n",
       "<tbody>\n",
       "\t<tr><td>9.0000000</td><td>1268.91000</td><td>935.03000</td><td>max   </td></tr>\n",
       "\t<tr><td>0.1138996</td><td>  13.88798</td><td> 17.35457</td><td>mean  </td></tr>\n",
       "\t<tr><td>0.0000000</td><td>   0.00000</td><td>  0.00000</td><td>min   </td></tr>\n",
       "\t<tr><td>0.0000000</td><td>   1.35500</td><td>  0.13000</td><td>median</td></tr>\n",
       "\t<tr><td>0.5567937</td><td>  60.19784</td><td> 80.31088</td><td>stdev </td></tr>\n",
       "</tbody>\n",
       "</table>\n"
      ],
      "text/latex": [
       "A tibble: 5 × 4\n",
       "\\begin{tabular}{llll}\n",
       " History & TOTAL & Money\\_Value & Stat\\\\\n",
       " <dbl> & <dbl> & <dbl> & <chr>\\\\\n",
       "\\hline\n",
       "\t 9.0000000 & 1268.91000 & 935.03000 & max   \\\\\n",
       "\t 0.1138996 &   13.88798 &  17.35457 & mean  \\\\\n",
       "\t 0.0000000 &    0.00000 &   0.00000 & min   \\\\\n",
       "\t 0.0000000 &    1.35500 &   0.13000 & median\\\\\n",
       "\t 0.5567937 &   60.19784 &  80.31088 & stdev \\\\\n",
       "\\end{tabular}\n"
      ],
      "text/markdown": [
       "\n",
       "A tibble: 5 × 4\n",
       "\n",
       "| History &lt;dbl&gt; | TOTAL &lt;dbl&gt; | Money_Value &lt;dbl&gt; | Stat &lt;chr&gt; |\n",
       "|---|---|---|---|\n",
       "| 9.0000000 | 1268.91000 | 935.03000 | max    |\n",
       "| 0.1138996 |   13.88798 |  17.35457 | mean   |\n",
       "| 0.0000000 |    0.00000 |   0.00000 | min    |\n",
       "| 0.0000000 |    1.35500 |   0.13000 | median |\n",
       "| 0.5567937 |   60.19784 |  80.31088 | stdev  |\n",
       "\n"
      ],
      "text/plain": [
       "  History   TOTAL      Money_Value Stat  \n",
       "1 9.0000000 1268.91000 935.03000   max   \n",
       "2 0.1138996   13.88798  17.35457   mean  \n",
       "3 0.0000000    0.00000   0.00000   min   \n",
       "4 0.0000000    1.35500   0.13000   median\n",
       "5 0.5567937   60.19784  80.31088   stdev "
      ]
     },
     "metadata": {},
     "output_type": "display_data"
    }
   ],
   "source": [
    "audit_risk_data_training_predictors <- select(audit_risk_data_training, History, TOTAL, Money_Value) ### Select the predictors only\n",
    "\n",
    "### Now we can calculate the mean, median, min, and max and combine them all into one tibble.\n",
    "\n",
    "audit_risk_data_training_mean <- audit_risk_data_training_predictors %>%\n",
    "map_df(mean, na.rm = TRUE) %>%\n",
    "mutate(Stat = \"mean\")\n",
    "\n",
    "audit_risk_data_training_max <- audit_risk_data_training_predictors %>%\n",
    "map_df(max, na.rm = TRUE) %>%\n",
    "mutate(Stat = \"max\")\n",
    "\n",
    "audit_risk_data_training_min <- audit_risk_data_training_predictors %>%\n",
    "map_df(min, na.rm = TRUE) %>%\n",
    "mutate(Stat = \"min\")\n",
    "\n",
    "audit_risk_data_training_median <- audit_risk_data_training_predictors %>%\n",
    "map_df(median, na.rm = TRUE) %>%\n",
    "mutate(Stat = \"median\")\n",
    "\n",
    "audit_risk_data_training_stdev <- audit_risk_data_training_predictors %>%\n",
    "map_df(sd, na.rm = TRUE) %>%\n",
    "mutate(Stat = \"stdev\")\n",
    "\n",
    "audit_risk_data_training_stats <- bind_rows(audit_risk_data_training_max, audit_risk_data_training_mean,\n",
    "                                            audit_risk_data_training_min, audit_risk_data_training_median,\n",
    "                                            audit_risk_data_training_stdev)\n",
    "\n",
    "audit_risk_data_training_stats"
   ]
  },
  {
   "cell_type": "markdown",
   "metadata": {},
   "source": [
    "### Analyzing the table\n",
    "\n",
    "In our table, the max values are very large in comparison to the mean and median.\n",
    "\n",
    "When comparing the mean to the median, we notice that they are quite far apart. This could indicate that there are not many fraudulent bodies but there are some at the top with very large Money_Value and TOTAL values that raise the mean but do not affect the median by much.\n",
    "\n",
    "The min indicates that every value can be exactly zero.\n",
    "\n",
    "<strong>In addition to calculating those stats, we should see how many observations have risk factors of 0 or 1, as well as the total observations.</strong>"
   ]
  },
  {
   "cell_type": "code",
   "execution_count": 66,
   "metadata": {},
   "outputs": [
    {
     "name": "stderr",
     "output_type": "stream",
     "text": [
      "`summarise()` ungrouping output (override with `.groups` argument)\n",
      "\n"
     ]
    },
    {
     "data": {
      "text/html": [
       "<table>\n",
       "<caption>A tibble: 2 × 2</caption>\n",
       "<thead>\n",
       "\t<tr><th scope=col>Risk</th><th scope=col>n</th></tr>\n",
       "\t<tr><th scope=col>&lt;fct&gt;</th><th scope=col>&lt;int&gt;</th></tr>\n",
       "</thead>\n",
       "<tbody>\n",
       "\t<tr><td>0</td><td>314</td></tr>\n",
       "\t<tr><td>1</td><td>204</td></tr>\n",
       "</tbody>\n",
       "</table>\n"
      ],
      "text/latex": [
       "A tibble: 2 × 2\n",
       "\\begin{tabular}{ll}\n",
       " Risk & n\\\\\n",
       " <fct> & <int>\\\\\n",
       "\\hline\n",
       "\t 0 & 314\\\\\n",
       "\t 1 & 204\\\\\n",
       "\\end{tabular}\n"
      ],
      "text/markdown": [
       "\n",
       "A tibble: 2 × 2\n",
       "\n",
       "| Risk &lt;fct&gt; | n &lt;int&gt; |\n",
       "|---|---|\n",
       "| 0 | 314 |\n",
       "| 1 | 204 |\n",
       "\n"
      ],
      "text/plain": [
       "  Risk n  \n",
       "1 0    314\n",
       "2 1    204"
      ]
     },
     "metadata": {},
     "output_type": "display_data"
    }
   ],
   "source": [
    "audit_risk_data_count <- audit_risk_data_training %>%\n",
    "group_by(Risk) %>%\n",
    "summarize(n = n())\n",
    "\n",
    "audit_risk_data_count"
   ]
  },
  {
   "cell_type": "markdown",
   "metadata": {},
   "source": [
    "There seems to about an even split, which is good because it will provide us with enough samples of each to accurately predict the Risk. The total number of observations in our training data is 518. This should be sufficient to be accurate.\n",
    "\n",
    "### Creating a Plot\n",
    "\n",
    "Based on the stats of the previous table, we could plot TOTAL against Money_Value to see if they are correlated. When inspecting the mean/median/stdev table, they appear to have some degree of correlation. It is less clear if History has a correlation with them, but we can plot all three of our predictor variables against each other in a ggpairs matrix in order to examine any possible correlation. Also, we can check the distributions of each variable in the ggpairs plot."
   ]
  },
  {
   "cell_type": "code",
   "execution_count": 67,
   "metadata": {},
   "outputs": [
    {
     "name": "stderr",
     "output_type": "stream",
     "text": [
      "Warning message in (function (data, mapping, alignPercent = 0.6, method = \"pearson\", :\n",
      "“Removing 1 row that contained a missing value”\n",
      "Warning message in (function (data, mapping, alignPercent = 0.6, method = \"pearson\", :\n",
      "“Removing 1 row that contained a missing value”\n",
      "Warning message:\n",
      "“Removed 1 rows containing missing values (geom_point).”\n",
      "Warning message:\n",
      "“Removed 1 rows containing missing values (geom_point).”\n",
      "Warning message:\n",
      "“Removed 1 rows containing non-finite values (stat_density).”\n"
     ]
    },
    {
     "data": {
      "image/png": "[encoded data removed]",
      "text/plain": [
       "plot without title"
      ]
     },
     "metadata": {
      "image/png": {
       "height": 600,
       "width": 600
      }
     },
     "output_type": "display_data"
    }
   ],
   "source": [
    "options(repr.plot.width=10, repr.plot.height=10)\n",
    "\n",
    "audit_risk_data_pairs <- audit_risk_data_training_predictors %>%\n",
    "ggpairs(columnLabels = c(\"History\", \"Total Score (crore)\", \"Money in Mistatements\")) +\n",
    "theme(text = element_text(size = 20)) +\n",
    "ggtitle(\"Correlogram of Predictors\")\n",
    "\n",
    "audit_risk_data_pairs"
   ]
  },
  {
   "cell_type": "markdown",
   "metadata": {},
   "source": [
    "First, when we look at the correlation values, two have a very weak positive correlation. The correlation between History and TOTAL is the strongest out of the three, but it is still rather weak. History and Money_Value have almost no correlation at all.\n",
    "\n",
    "When looking at the distributions, they all have very high peaks near 0 and then quickly drop off as the bin numbers increase. This could be an issue if there are not enough neighbors with higher magnitude of predictor variable values to look at during knn classification. However, the ratio of Risk = 0 to Risk = 1 is about 1:1 so there should be enough to do a proper knn classification.\n",
    "\n",
    "The scatterplots are really hard to read. The History-Total plot and History-Money plot have odd pillars which could indicate that History score is quantized. The Score-Money plot appears to have one outlier which makes the plot extremely difficult to read. When looking at the plots it doesn't appear that any strong correlation can be interpreted, which matches our observations about the Pearson coeff."
   ]
  },
  {
   "cell_type": "markdown",
   "metadata": {},
   "source": [
    "## Methods\n",
    "\n",
    "### Variables\n",
    "\n",
    "1. History (Average historical loss suffered by the firm in the last 10 years)\n",
    "The history variable seems like a relevant variable to predict fraud since we predict there must be a correlation between the tendency to commit fraud and the financial health of a firm. Meaning that underperforming firms must be more desperate and inclined for fraudulent reporting. \n",
    "2. Total (Total amount of discrepancy found in other reports Rs (in crore))\n",
    "The total discrepancy is an obvious variable which we intend to use. Since high discrepancies indicate inaccuracies, this must naturally lead to more fraudulent reports.\n",
    "3. Money Value (Amount of money involved in misstatements in the past audit)\n",
    "The last variable, money value, is also closely linked to the Total variable. We assume that higher amounts of misstatements suggest suspicious activity from a firm. Hence, they will be more likely to commit fraudulent activity.\n",
    "\n",
    "### Method of Analysis\n",
    "\n",
    "We will use the three variables mentioned above for a k-nearest neighbors model to classify whether or not a firm is considered fraudulent. This will be done by training the model using training data in a 5 fold cross-validation fit and also finding the optimal value of k by using a tuning method. Then the model will be applied to testing data and the accuracy of the model will be evaluated.\n",
    "\n",
    "Our results will be visualized by displaying the accuracy of our model in a table and also producing a confusion matrix of the predicted Risk vs the actual Risk.\n",
    "\n",
    "## Expected Outcomes and Significance\n",
    "\n",
    "From the above diagrams, we expect that our three variables will have high accuracy in predicting the fraudulent activity of the firms. With the ongoing growth of financial fraud cases, finding the key indicators of fraud can help maintain and improve the quality of audit fieldwork. It would be worth further investigating why these observations have different strengths of correlation to the classification results. This would ensure a more applicable model going forward and allow firms to become more transparent to consumers."
   ]
  }
 ],
 "metadata": {
  "kernelspec": {
   "display_name": "R",
   "language": "R",
   "name": "ir"
  },
  "language_info": {
   "codemirror_mode": "r",
   "file_extension": ".r",
   "mimetype": "text/x-r-source",
   "name": "R",
   "pygments_lexer": "r",
   "version": "4.0.0"
  }
 },
 "nbformat": 4,
 "nbformat_minor": 4
}
