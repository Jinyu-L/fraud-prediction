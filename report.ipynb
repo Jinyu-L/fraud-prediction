{
 "cells": [
  {
   "cell_type": "markdown",
   "metadata": {},
   "source": [
    "# Predicting Financial Fraud of Firms\n",
    "## 1.0 Introduction\n",
    "\n",
    "Firms report financial statements for every quarter and annual period. These statements are first reported internally by the organization, which in turn must be audited by accredited auditing firms to verify that the reports are accurate. Firms may be incentivized to create fraud within their reports for financial benefits such as taxation and value inflation. Fraudulent activity can cause massive monetary loss for investors (Hajek 2017), government organizations (Lin 2015), and individuals (Lin 2015). Fraudulent activity is also increasing (Lin 2015). This marks growing importance for developing better ways of detecting and eliminating financial fraud.\n",
    "\n",
    "Our analysis will try to determine if selected variables can form a model to accurately predict whether or not a firm is fraudulent given the predictor variables.\n",
    "\n",
    "The question we want to answer is: <strong>Can we accurately predict if a firm is fraudulent or not based on its reported vs audited monetary discrepancies, amount of money involved in misstatements, and historical monetary loss?</strong> (Determining these variables is in <strong>1.13</strong>)\n",
    "\n",
    "The dataset that will be used to answer this question is Audit Data. Audit Data contains risk factor classifications and methods used by the external auditing firm. Specifically, the data contains reports from 777 firms from 46 different listings and 14 different sector scores. The variable that the model will be predicting is Risk. The numeric variables in this dataset and Risk are:\n",
    "\n",
    "<ol>\n",
    "    <li>Para A : Discrepancy in planned spending in Indian Rupees (in crore) (Hooda 2018)</li>\n",
    "    <li>Para B : Discrepancy in unplanned spending in Indian Rupees (in crore) (Hooda 2018)</li>\n",
    "    <li>Total : Sum of discrepancies in Para A and Para B and other reports in Indian Rupees (in crore) (Hooda 2018)</li>\n",
    "    <li>Number : Historical Discrepancy Score (non-measured) (Hooda 2018)</li>\n",
    "    <li>Money Value : Amount of money involved in misstatements (Hooda 2018)</li>\n",
    "    <li>Sector : Historical risk score (non-measured) (Hooda 2018)</li>\n",
    "    <li>Loss : Monetary loss suffered by a firm in the last year (Hooda 2018)</li>\n",
    "    <li>History : Average monetary loss by a firm in the last 10 year (Hooda 2018)</li>\n",
    "    <li>District Score : Risk score of district in last 10 years (non-measured) (Hooda 2018)</li>\n",
    "    <li>Risk <strong>(predicted fct variable)</strong> : 1 if the firm has been determined to be fraudulent. 0 if not.</li>\n",
    "</ol>\n",
    "\n",
    "#### [Figure 1.0]\n",
    "\n",
    "Some variables were not included because they were enumerations (eg. Audit ID, Location ID) or calculated risk values (eg. ARS, a determined value from machine learning (Hooda 2018))\n",
    "\n",
    "## 1.1 Methods\n",
    "\n",
    "### 1.11 Process\n",
    "\n",
    "To answer our question, an exploration of the data will be performed to determine which variables are suitable for use in our analysis (This is done in <strong>1.13</strong>). We will create an initial KNN model with our predictor variables which we will use in cross-validation to determine an optimum value of K for the model. This value of K will be used to create our final model.\n",
    "\n",
    "Next, we will use the testing data to test how accurate our model is at classifying observations it has not seen. Finally, we will summarize our findings by calculating an accuracy figure and also displaying a confusion matrix of how well the model was able to predict Risk for the testing data.\n",
    "\n",
    "### 1.12 Wrangling\n",
    "\n",
    "First, we load the libraries that we need, which are tidyverse, tidymodels, repr, and GGally."
   ]
  },
  {
   "cell_type": "code",
   "execution_count": 3,
   "metadata": {},
   "outputs": [
    {
     "name": "stderr",
     "output_type": "stream",
     "text": [
      "── \u001b[1mAttaching packages\u001b[22m ─────────────────────────────────────── tidyverse 1.3.0 ──\n",
      "\n",
      "\u001b[32m✔\u001b[39m \u001b[34mggplot2\u001b[39m 3.3.2     \u001b[32m✔\u001b[39m \u001b[34mpurrr  \u001b[39m 0.3.4\n",
      "\u001b[32m✔\u001b[39m \u001b[34mtibble \u001b[39m 3.0.3     \u001b[32m✔\u001b[39m \u001b[34mdplyr  \u001b[39m 1.0.2\n",
      "\u001b[32m✔\u001b[39m \u001b[34mtidyr  \u001b[39m 1.1.2     \u001b[32m✔\u001b[39m \u001b[34mstringr\u001b[39m 1.4.0\n",
      "\u001b[32m✔\u001b[39m \u001b[34mreadr  \u001b[39m 1.3.1     \u001b[32m✔\u001b[39m \u001b[34mforcats\u001b[39m 0.5.0\n",
      "\n",
      "Warning message:\n",
      "“package ‘ggplot2’ was built under R version 4.0.1”\n",
      "Warning message:\n",
      "“package ‘tibble’ was built under R version 4.0.2”\n",
      "Warning message:\n",
      "“package ‘tidyr’ was built under R version 4.0.2”\n",
      "Warning message:\n",
      "“package ‘dplyr’ was built under R version 4.0.2”\n",
      "── \u001b[1mConflicts\u001b[22m ────────────────────────────────────────── tidyverse_conflicts() ──\n",
      "\u001b[31m✖\u001b[39m \u001b[34mdplyr\u001b[39m::\u001b[32mfilter()\u001b[39m masks \u001b[34mstats\u001b[39m::filter()\n",
      "\u001b[31m✖\u001b[39m \u001b[34mdplyr\u001b[39m::\u001b[32mlag()\u001b[39m    masks \u001b[34mstats\u001b[39m::lag()\n",
      "\n",
      "Warning message:\n",
      "“package ‘tidymodels’ was built under R version 4.0.2”\n",
      "── \u001b[1mAttaching packages\u001b[22m ────────────────────────────────────── tidymodels 0.1.1 ──\n",
      "\n",
      "\u001b[32m✔\u001b[39m \u001b[34mbroom    \u001b[39m 0.7.0      \u001b[32m✔\u001b[39m \u001b[34mrecipes  \u001b[39m 0.1.13\n",
      "\u001b[32m✔\u001b[39m \u001b[34mdials    \u001b[39m 0.0.9      \u001b[32m✔\u001b[39m \u001b[34mrsample  \u001b[39m 0.0.7 \n",
      "\u001b[32m✔\u001b[39m \u001b[34minfer    \u001b[39m 0.5.4      \u001b[32m✔\u001b[39m \u001b[34mtune     \u001b[39m 0.1.1 \n",
      "\u001b[32m✔\u001b[39m \u001b[34mmodeldata\u001b[39m 0.0.2      \u001b[32m✔\u001b[39m \u001b[34mworkflows\u001b[39m 0.2.0 \n",
      "\u001b[32m✔\u001b[39m \u001b[34mparsnip  \u001b[39m 0.1.3      \u001b[32m✔\u001b[39m \u001b[34myardstick\u001b[39m 0.0.7 \n",
      "\n",
      "Warning message:\n",
      "“package ‘broom’ was built under R version 4.0.2”\n",
      "Warning message:\n",
      "“package ‘dials’ was built under R version 4.0.2”\n",
      "Warning message:\n",
      "“package ‘infer’ was built under R version 4.0.3”\n",
      "Warning message:\n",
      "“package ‘modeldata’ was built under R version 4.0.1”\n",
      "Warning message:\n",
      "“package ‘parsnip’ was built under R version 4.0.2”\n",
      "Warning message:\n",
      "“package ‘recipes’ was built under R version 4.0.1”\n",
      "Warning message:\n",
      "“package ‘tune’ was built under R version 4.0.2”\n",
      "Warning message:\n",
      "“package ‘workflows’ was built under R version 4.0.2”\n",
      "Warning message:\n",
      "“package ‘yardstick’ was built under R version 4.0.2”\n",
      "── \u001b[1mConflicts\u001b[22m ───────────────────────────────────────── tidymodels_conflicts() ──\n",
      "\u001b[31m✖\u001b[39m \u001b[34mscales\u001b[39m::\u001b[32mdiscard()\u001b[39m masks \u001b[34mpurrr\u001b[39m::discard()\n",
      "\u001b[31m✖\u001b[39m \u001b[34mdplyr\u001b[39m::\u001b[32mfilter()\u001b[39m   masks \u001b[34mstats\u001b[39m::filter()\n",
      "\u001b[31m✖\u001b[39m \u001b[34mrecipes\u001b[39m::\u001b[32mfixed()\u001b[39m  masks \u001b[34mstringr\u001b[39m::fixed()\n",
      "\u001b[31m✖\u001b[39m \u001b[34mdplyr\u001b[39m::\u001b[32mlag()\u001b[39m      masks \u001b[34mstats\u001b[39m::lag()\n",
      "\u001b[31m✖\u001b[39m \u001b[34myardstick\u001b[39m::\u001b[32mspec()\u001b[39m masks \u001b[34mreadr\u001b[39m::spec()\n",
      "\u001b[31m✖\u001b[39m \u001b[34mrecipes\u001b[39m::\u001b[32mstep()\u001b[39m   masks \u001b[34mstats\u001b[39m::step()\n",
      "\n",
      "Registered S3 method overwritten by 'GGally':\n",
      "  method from   \n",
      "  +.gg   ggplot2\n",
      "\n"
     ]
    }
   ],
   "source": [
    "library(tidyverse)\n",
    "library(tidymodels)\n",
    "library(repr)\n",
    "library(GGally)"
   ]
  },
  {
   "cell_type": "markdown",
   "metadata": {},
   "source": [
    "Now we want to download the data from the url. Since it is in .zip format, we have to download it before unzipping and then using read_csv(). The file \"audit_risk.csv\" is the one with the data that we want to use to create our classification."
   ]
  },
  {
   "cell_type": "code",
   "execution_count": 4,
   "metadata": {},
   "outputs": [
    {
     "name": "stderr",
     "output_type": "stream",
     "text": [
      "Warning message:\n",
      "“Duplicated column names deduplicated: 'Score_B' => 'Score_B_1' [11]”\n",
      "Parsed with column specification:\n",
      "cols(\n",
      "  .default = col_double(),\n",
      "  LOCATION_ID = \u001b[31mcol_character()\u001b[39m\n",
      ")\n",
      "\n",
      "See spec(...) for full column specifications.\n",
      "\n"
     ]
    }
   ],
   "source": [
    "url <- \"https://archive.ics.uci.edu/ml/machine-learning-databases/00475/audit_data.zip\"\n",
    "download.file(url, \"audit_data.zip\")\n",
    "unzip(\"audit_data.zip\")\n",
    "\n",
    "audit_risk_data_main <- read_csv(\"audit_data/audit_risk.csv\")"
   ]
  },
  {
   "cell_type": "markdown",
   "metadata": {},
   "source": [
    "Before we inspect the data, we should split it up into training and testing data so we are only using the training data during our training portion of the analysis. We set the seed so the split is the same everytime, then use initial_split to perform the split. Next, we extract each respective data set into a training data set and a testing data set."
   ]
  },
  {
   "cell_type": "code",
   "execution_count": 5,
   "metadata": {},
   "outputs": [],
   "source": [
    "### SET THE SEED\n",
    "set.seed(18)\n",
    "### DO NOT CHANGE\n",
    "\n",
    "audit_risk_data_split <- initial_split(audit_risk_data_main, prop = 2/3, strata = Risk)\n",
    "audit_risk_data_training <- training(audit_risk_data_split)\n",
    "audit_risk_data_testing <- testing(audit_risk_data_split)"
   ]
  },
  {
   "cell_type": "markdown",
   "metadata": {},
   "source": [
    "Firstly, we should inspect the table to check for poor data quality, tidyness, and trends. We can check the first few rows of the training data."
   ]
  },
  {
   "cell_type": "code",
   "execution_count": 6,
   "metadata": {},
   "outputs": [
    {
     "data": {
      "text/html": [
       "<table>\n",
       "<caption>A tibble: 12 × 27</caption>\n",
       "<thead>\n",
       "\t<tr><th scope=col>Sector_score</th><th scope=col>LOCATION_ID</th><th scope=col>PARA_A</th><th scope=col>Score_A</th><th scope=col>Risk_A</th><th scope=col>PARA_B</th><th scope=col>Score_B</th><th scope=col>Risk_B</th><th scope=col>TOTAL</th><th scope=col>numbers</th><th scope=col>⋯</th><th scope=col>RiSk_E</th><th scope=col>History</th><th scope=col>Prob</th><th scope=col>Risk_F</th><th scope=col>Score</th><th scope=col>Inherent_Risk</th><th scope=col>CONTROL_RISK</th><th scope=col>Detection_Risk</th><th scope=col>Audit_Risk</th><th scope=col>Risk</th></tr>\n",
       "\t<tr><th scope=col>&lt;dbl&gt;</th><th scope=col>&lt;chr&gt;</th><th scope=col>&lt;dbl&gt;</th><th scope=col>&lt;dbl&gt;</th><th scope=col>&lt;dbl&gt;</th><th scope=col>&lt;dbl&gt;</th><th scope=col>&lt;dbl&gt;</th><th scope=col>&lt;dbl&gt;</th><th scope=col>&lt;dbl&gt;</th><th scope=col>&lt;dbl&gt;</th><th scope=col>⋯</th><th scope=col>&lt;dbl&gt;</th><th scope=col>&lt;dbl&gt;</th><th scope=col>&lt;dbl&gt;</th><th scope=col>&lt;dbl&gt;</th><th scope=col>&lt;dbl&gt;</th><th scope=col>&lt;dbl&gt;</th><th scope=col>&lt;dbl&gt;</th><th scope=col>&lt;dbl&gt;</th><th scope=col>&lt;dbl&gt;</th><th scope=col>&lt;dbl&gt;</th></tr>\n",
       "</thead>\n",
       "<tbody>\n",
       "\t<tr><td>3.89</td><td>6 </td><td>0.00</td><td>0.2</td><td>0.000</td><td>10.80</td><td>0.6</td><td>6.480</td><td>10.80</td><td>6.0</td><td>⋯</td><td>0.4</td><td>0</td><td>0.2</td><td>0.0</td><td>4.4</td><td>17.5300</td><td>0.4</td><td>0.5</td><td> 3.50600</td><td>1</td></tr>\n",
       "\t<tr><td>3.89</td><td>6 </td><td>0.00</td><td>0.2</td><td>0.000</td><td> 0.08</td><td>0.2</td><td>0.016</td><td> 0.08</td><td>5.0</td><td>⋯</td><td>0.4</td><td>0</td><td>0.2</td><td>0.0</td><td>2.0</td><td> 1.4160</td><td>0.4</td><td>0.5</td><td> 0.28320</td><td>0</td></tr>\n",
       "\t<tr><td>3.89</td><td>7 </td><td>1.10</td><td>0.4</td><td>0.440</td><td> 7.41</td><td>0.4</td><td>2.964</td><td> 8.51</td><td>5.0</td><td>⋯</td><td>0.4</td><td>0</td><td>0.2</td><td>0.0</td><td>3.2</td><td>31.7740</td><td>0.4</td><td>0.5</td><td> 6.35480</td><td>1</td></tr>\n",
       "\t<tr><td>3.89</td><td>8 </td><td>8.50</td><td>0.6</td><td>5.100</td><td>12.03</td><td>0.6</td><td>7.218</td><td>20.53</td><td>5.5</td><td>⋯</td><td>0.4</td><td>0</td><td>0.2</td><td>0.0</td><td>4.2</td><td>18.0340</td><td>0.4</td><td>0.5</td><td> 3.60680</td><td>1</td></tr>\n",
       "\t<tr><td>3.89</td><td>8 </td><td>8.40</td><td>0.6</td><td>5.040</td><td>11.05</td><td>0.6</td><td>6.630</td><td>19.45</td><td>5.5</td><td>⋯</td><td>0.4</td><td>0</td><td>0.2</td><td>0.0</td><td>4.2</td><td>17.2060</td><td>0.4</td><td>0.5</td><td> 3.44120</td><td>1</td></tr>\n",
       "\t<tr><td>3.89</td><td>8 </td><td>3.98</td><td>0.6</td><td>2.388</td><td> 0.99</td><td>0.2</td><td>0.198</td><td> 4.97</td><td>5.0</td><td>⋯</td><td>0.4</td><td>0</td><td>0.2</td><td>0.0</td><td>2.4</td><td> 4.3720</td><td>0.4</td><td>0.5</td><td> 0.87440</td><td>0</td></tr>\n",
       "\t<tr><td>3.89</td><td>8 </td><td>5.43</td><td>0.6</td><td>3.258</td><td>10.77</td><td>0.6</td><td>6.462</td><td>16.20</td><td>5.0</td><td>⋯</td><td>0.4</td><td>0</td><td>0.2</td><td>0.0</td><td>3.6</td><td>12.0040</td><td>0.4</td><td>0.5</td><td> 2.40080</td><td>1</td></tr>\n",
       "\t<tr><td>3.89</td><td>8 </td><td>5.47</td><td>0.6</td><td>3.282</td><td> 7.63</td><td>0.4</td><td>3.052</td><td>13.10</td><td>5.0</td><td>⋯</td><td>0.4</td><td>1</td><td>0.4</td><td>0.4</td><td>3.6</td><td>14.3920</td><td>0.8</td><td>0.5</td><td> 5.75680</td><td>1</td></tr>\n",
       "\t<tr><td>3.89</td><td>8 </td><td>1.09</td><td>0.4</td><td>0.436</td><td> 0.35</td><td>0.2</td><td>0.070</td><td> 1.44</td><td>5.0</td><td>⋯</td><td>0.4</td><td>0</td><td>0.2</td><td>0.0</td><td>2.2</td><td> 1.9060</td><td>0.4</td><td>0.5</td><td> 0.38120</td><td>0</td></tr>\n",
       "\t<tr><td>3.89</td><td>8 </td><td>0.00</td><td>0.2</td><td>0.000</td><td> 0.84</td><td>0.2</td><td>0.168</td><td> 0.84</td><td>5.0</td><td>⋯</td><td>0.4</td><td>0</td><td>0.2</td><td>0.0</td><td>2.0</td><td> 1.5694</td><td>0.4</td><td>0.5</td><td> 0.31388</td><td>0</td></tr>\n",
       "\t<tr><td>3.89</td><td>37</td><td>4.18</td><td>0.6</td><td>2.508</td><td> 4.83</td><td>0.2</td><td>0.966</td><td> 9.01</td><td>5.5</td><td>⋯</td><td>0.4</td><td>0</td><td>0.2</td><td>0.0</td><td>3.2</td><td>14.4920</td><td>0.4</td><td>0.5</td><td> 2.89840</td><td>1</td></tr>\n",
       "\t<tr><td>3.89</td><td>24</td><td>6.26</td><td>0.6</td><td>3.756</td><td>14.10</td><td>0.6</td><td>8.460</td><td>20.36</td><td>5.0</td><td>⋯</td><td>0.4</td><td>1</td><td>0.4</td><td>0.4</td><td>4.2</td><td>34.5600</td><td>0.8</td><td>0.5</td><td>13.82400</td><td>1</td></tr>\n",
       "</tbody>\n",
       "</table>\n"
      ],
      "text/latex": [
       "A tibble: 12 × 27\n",
       "\\begin{tabular}{lllllllllllllllllllll}\n",
       " Sector\\_score & LOCATION\\_ID & PARA\\_A & Score\\_A & Risk\\_A & PARA\\_B & Score\\_B & Risk\\_B & TOTAL & numbers & ⋯ & RiSk\\_E & History & Prob & Risk\\_F & Score & Inherent\\_Risk & CONTROL\\_RISK & Detection\\_Risk & Audit\\_Risk & Risk\\\\\n",
       " <dbl> & <chr> & <dbl> & <dbl> & <dbl> & <dbl> & <dbl> & <dbl> & <dbl> & <dbl> & ⋯ & <dbl> & <dbl> & <dbl> & <dbl> & <dbl> & <dbl> & <dbl> & <dbl> & <dbl> & <dbl>\\\\\n",
       "\\hline\n",
       "\t 3.89 & 6  & 0.00 & 0.2 & 0.000 & 10.80 & 0.6 & 6.480 & 10.80 & 6.0 & ⋯ & 0.4 & 0 & 0.2 & 0.0 & 4.4 & 17.5300 & 0.4 & 0.5 &  3.50600 & 1\\\\\n",
       "\t 3.89 & 6  & 0.00 & 0.2 & 0.000 &  0.08 & 0.2 & 0.016 &  0.08 & 5.0 & ⋯ & 0.4 & 0 & 0.2 & 0.0 & 2.0 &  1.4160 & 0.4 & 0.5 &  0.28320 & 0\\\\\n",
       "\t 3.89 & 7  & 1.10 & 0.4 & 0.440 &  7.41 & 0.4 & 2.964 &  8.51 & 5.0 & ⋯ & 0.4 & 0 & 0.2 & 0.0 & 3.2 & 31.7740 & 0.4 & 0.5 &  6.35480 & 1\\\\\n",
       "\t 3.89 & 8  & 8.50 & 0.6 & 5.100 & 12.03 & 0.6 & 7.218 & 20.53 & 5.5 & ⋯ & 0.4 & 0 & 0.2 & 0.0 & 4.2 & 18.0340 & 0.4 & 0.5 &  3.60680 & 1\\\\\n",
       "\t 3.89 & 8  & 8.40 & 0.6 & 5.040 & 11.05 & 0.6 & 6.630 & 19.45 & 5.5 & ⋯ & 0.4 & 0 & 0.2 & 0.0 & 4.2 & 17.2060 & 0.4 & 0.5 &  3.44120 & 1\\\\\n",
       "\t 3.89 & 8  & 3.98 & 0.6 & 2.388 &  0.99 & 0.2 & 0.198 &  4.97 & 5.0 & ⋯ & 0.4 & 0 & 0.2 & 0.0 & 2.4 &  4.3720 & 0.4 & 0.5 &  0.87440 & 0\\\\\n",
       "\t 3.89 & 8  & 5.43 & 0.6 & 3.258 & 10.77 & 0.6 & 6.462 & 16.20 & 5.0 & ⋯ & 0.4 & 0 & 0.2 & 0.0 & 3.6 & 12.0040 & 0.4 & 0.5 &  2.40080 & 1\\\\\n",
       "\t 3.89 & 8  & 5.47 & 0.6 & 3.282 &  7.63 & 0.4 & 3.052 & 13.10 & 5.0 & ⋯ & 0.4 & 1 & 0.4 & 0.4 & 3.6 & 14.3920 & 0.8 & 0.5 &  5.75680 & 1\\\\\n",
       "\t 3.89 & 8  & 1.09 & 0.4 & 0.436 &  0.35 & 0.2 & 0.070 &  1.44 & 5.0 & ⋯ & 0.4 & 0 & 0.2 & 0.0 & 2.2 &  1.9060 & 0.4 & 0.5 &  0.38120 & 0\\\\\n",
       "\t 3.89 & 8  & 0.00 & 0.2 & 0.000 &  0.84 & 0.2 & 0.168 &  0.84 & 5.0 & ⋯ & 0.4 & 0 & 0.2 & 0.0 & 2.0 &  1.5694 & 0.4 & 0.5 &  0.31388 & 0\\\\\n",
       "\t 3.89 & 37 & 4.18 & 0.6 & 2.508 &  4.83 & 0.2 & 0.966 &  9.01 & 5.5 & ⋯ & 0.4 & 0 & 0.2 & 0.0 & 3.2 & 14.4920 & 0.4 & 0.5 &  2.89840 & 1\\\\\n",
       "\t 3.89 & 24 & 6.26 & 0.6 & 3.756 & 14.10 & 0.6 & 8.460 & 20.36 & 5.0 & ⋯ & 0.4 & 1 & 0.4 & 0.4 & 4.2 & 34.5600 & 0.8 & 0.5 & 13.82400 & 1\\\\\n",
       "\\end{tabular}\n"
      ],
      "text/markdown": [
       "\n",
       "A tibble: 12 × 27\n",
       "\n",
       "| Sector_score &lt;dbl&gt; | LOCATION_ID &lt;chr&gt; | PARA_A &lt;dbl&gt; | Score_A &lt;dbl&gt; | Risk_A &lt;dbl&gt; | PARA_B &lt;dbl&gt; | Score_B &lt;dbl&gt; | Risk_B &lt;dbl&gt; | TOTAL &lt;dbl&gt; | numbers &lt;dbl&gt; | ⋯ ⋯ | RiSk_E &lt;dbl&gt; | History &lt;dbl&gt; | Prob &lt;dbl&gt; | Risk_F &lt;dbl&gt; | Score &lt;dbl&gt; | Inherent_Risk &lt;dbl&gt; | CONTROL_RISK &lt;dbl&gt; | Detection_Risk &lt;dbl&gt; | Audit_Risk &lt;dbl&gt; | Risk &lt;dbl&gt; |\n",
       "|---|---|---|---|---|---|---|---|---|---|---|---|---|---|---|---|---|---|---|---|---|\n",
       "| 3.89 | 6  | 0.00 | 0.2 | 0.000 | 10.80 | 0.6 | 6.480 | 10.80 | 6.0 | ⋯ | 0.4 | 0 | 0.2 | 0.0 | 4.4 | 17.5300 | 0.4 | 0.5 |  3.50600 | 1 |\n",
       "| 3.89 | 6  | 0.00 | 0.2 | 0.000 |  0.08 | 0.2 | 0.016 |  0.08 | 5.0 | ⋯ | 0.4 | 0 | 0.2 | 0.0 | 2.0 |  1.4160 | 0.4 | 0.5 |  0.28320 | 0 |\n",
       "| 3.89 | 7  | 1.10 | 0.4 | 0.440 |  7.41 | 0.4 | 2.964 |  8.51 | 5.0 | ⋯ | 0.4 | 0 | 0.2 | 0.0 | 3.2 | 31.7740 | 0.4 | 0.5 |  6.35480 | 1 |\n",
       "| 3.89 | 8  | 8.50 | 0.6 | 5.100 | 12.03 | 0.6 | 7.218 | 20.53 | 5.5 | ⋯ | 0.4 | 0 | 0.2 | 0.0 | 4.2 | 18.0340 | 0.4 | 0.5 |  3.60680 | 1 |\n",
       "| 3.89 | 8  | 8.40 | 0.6 | 5.040 | 11.05 | 0.6 | 6.630 | 19.45 | 5.5 | ⋯ | 0.4 | 0 | 0.2 | 0.0 | 4.2 | 17.2060 | 0.4 | 0.5 |  3.44120 | 1 |\n",
       "| 3.89 | 8  | 3.98 | 0.6 | 2.388 |  0.99 | 0.2 | 0.198 |  4.97 | 5.0 | ⋯ | 0.4 | 0 | 0.2 | 0.0 | 2.4 |  4.3720 | 0.4 | 0.5 |  0.87440 | 0 |\n",
       "| 3.89 | 8  | 5.43 | 0.6 | 3.258 | 10.77 | 0.6 | 6.462 | 16.20 | 5.0 | ⋯ | 0.4 | 0 | 0.2 | 0.0 | 3.6 | 12.0040 | 0.4 | 0.5 |  2.40080 | 1 |\n",
       "| 3.89 | 8  | 5.47 | 0.6 | 3.282 |  7.63 | 0.4 | 3.052 | 13.10 | 5.0 | ⋯ | 0.4 | 1 | 0.4 | 0.4 | 3.6 | 14.3920 | 0.8 | 0.5 |  5.75680 | 1 |\n",
       "| 3.89 | 8  | 1.09 | 0.4 | 0.436 |  0.35 | 0.2 | 0.070 |  1.44 | 5.0 | ⋯ | 0.4 | 0 | 0.2 | 0.0 | 2.2 |  1.9060 | 0.4 | 0.5 |  0.38120 | 0 |\n",
       "| 3.89 | 8  | 0.00 | 0.2 | 0.000 |  0.84 | 0.2 | 0.168 |  0.84 | 5.0 | ⋯ | 0.4 | 0 | 0.2 | 0.0 | 2.0 |  1.5694 | 0.4 | 0.5 |  0.31388 | 0 |\n",
       "| 3.89 | 37 | 4.18 | 0.6 | 2.508 |  4.83 | 0.2 | 0.966 |  9.01 | 5.5 | ⋯ | 0.4 | 0 | 0.2 | 0.0 | 3.2 | 14.4920 | 0.4 | 0.5 |  2.89840 | 1 |\n",
       "| 3.89 | 24 | 6.26 | 0.6 | 3.756 | 14.10 | 0.6 | 8.460 | 20.36 | 5.0 | ⋯ | 0.4 | 1 | 0.4 | 0.4 | 4.2 | 34.5600 | 0.8 | 0.5 | 13.82400 | 1 |\n",
       "\n"
      ],
      "text/plain": [
       "   Sector_score LOCATION_ID PARA_A Score_A Risk_A PARA_B Score_B Risk_B TOTAL\n",
       "1  3.89         6           0.00   0.2     0.000  10.80  0.6     6.480  10.80\n",
       "2  3.89         6           0.00   0.2     0.000   0.08  0.2     0.016   0.08\n",
       "3  3.89         7           1.10   0.4     0.440   7.41  0.4     2.964   8.51\n",
       "4  3.89         8           8.50   0.6     5.100  12.03  0.6     7.218  20.53\n",
       "5  3.89         8           8.40   0.6     5.040  11.05  0.6     6.630  19.45\n",
       "6  3.89         8           3.98   0.6     2.388   0.99  0.2     0.198   4.97\n",
       "7  3.89         8           5.43   0.6     3.258  10.77  0.6     6.462  16.20\n",
       "8  3.89         8           5.47   0.6     3.282   7.63  0.4     3.052  13.10\n",
       "9  3.89         8           1.09   0.4     0.436   0.35  0.2     0.070   1.44\n",
       "10 3.89         8           0.00   0.2     0.000   0.84  0.2     0.168   0.84\n",
       "11 3.89         37          4.18   0.6     2.508   4.83  0.2     0.966   9.01\n",
       "12 3.89         24          6.26   0.6     3.756  14.10  0.6     8.460  20.36\n",
       "   numbers ⋯ RiSk_E History Prob Risk_F Score Inherent_Risk CONTROL_RISK\n",
       "1  6.0     ⋯ 0.4    0       0.2  0.0    4.4   17.5300       0.4         \n",
       "2  5.0     ⋯ 0.4    0       0.2  0.0    2.0    1.4160       0.4         \n",
       "3  5.0     ⋯ 0.4    0       0.2  0.0    3.2   31.7740       0.4         \n",
       "4  5.5     ⋯ 0.4    0       0.2  0.0    4.2   18.0340       0.4         \n",
       "5  5.5     ⋯ 0.4    0       0.2  0.0    4.2   17.2060       0.4         \n",
       "6  5.0     ⋯ 0.4    0       0.2  0.0    2.4    4.3720       0.4         \n",
       "7  5.0     ⋯ 0.4    0       0.2  0.0    3.6   12.0040       0.4         \n",
       "8  5.0     ⋯ 0.4    1       0.4  0.4    3.6   14.3920       0.8         \n",
       "9  5.0     ⋯ 0.4    0       0.2  0.0    2.2    1.9060       0.4         \n",
       "10 5.0     ⋯ 0.4    0       0.2  0.0    2.0    1.5694       0.4         \n",
       "11 5.5     ⋯ 0.4    0       0.2  0.0    3.2   14.4920       0.4         \n",
       "12 5.0     ⋯ 0.4    1       0.4  0.4    4.2   34.5600       0.8         \n",
       "   Detection_Risk Audit_Risk Risk\n",
       "1  0.5             3.50600   1   \n",
       "2  0.5             0.28320   0   \n",
       "3  0.5             6.35480   1   \n",
       "4  0.5             3.60680   1   \n",
       "5  0.5             3.44120   1   \n",
       "6  0.5             0.87440   0   \n",
       "7  0.5             2.40080   1   \n",
       "8  0.5             5.75680   1   \n",
       "9  0.5             0.38120   0   \n",
       "10 0.5             0.31388   0   \n",
       "11 0.5             2.89840   1   \n",
       "12 0.5            13.82400   1   "
      ]
     },
     "metadata": {},
     "output_type": "display_data"
    }
   ],
   "source": [
    "head(audit_risk_data_training, 12)"
   ]
  },
  {
   "cell_type": "markdown",
   "metadata": {},
   "source": [
    "#### [Table 1.12]. Legend: See [Figure 1.0]"
   ]
  },
  {
   "cell_type": "markdown",
   "metadata": {},
   "source": [
    "The data appears to be tidy in the columns we can see. Each column is one variable, each row is one observation, and each cell has exactly one value. Out of the 12 rows we are showing, there are no NA values, but let's check to make sure there aren't a massive amount of NAs hiding:"
   ]
  },
  {
   "cell_type": "code",
   "execution_count": 7,
   "metadata": {},
   "outputs": [
    {
     "data": {
      "text/html": [
       "517"
      ],
      "text/latex": [
       "517"
      ],
      "text/markdown": [
       "517"
      ],
      "text/plain": [
       "[1] 517"
      ]
     },
     "metadata": {},
     "output_type": "display_data"
    },
    {
     "data": {
      "text/html": [
       "518"
      ],
      "text/latex": [
       "518"
      ],
      "text/markdown": [
       "518"
      ],
      "text/plain": [
       "[1] 518"
      ]
     },
     "metadata": {},
     "output_type": "display_data"
    }
   ],
   "source": [
    "nrow(na.omit(audit_risk_data_training))\n",
    "nrow(audit_risk_data_training)"
   ]
  },
  {
   "cell_type": "markdown",
   "metadata": {},
   "source": [
    "The data seems to be of high quality! There is only one row with missing data. Since this observation could just be an irrelevant variable, we should filter out rows with NA values after we choose our predictors so we can keep as many observations as possible. Since we are predicting Risk through classification, we should convert that column to a factor. Let's also do the same for the testing data:"
   ]
  },
  {
   "cell_type": "code",
   "execution_count": 8,
   "metadata": {},
   "outputs": [
    {
     "data": {
      "text/html": [
       "<table>\n",
       "<caption>A tibble: 1 × 1</caption>\n",
       "<thead>\n",
       "\t<tr><th scope=col>Risk</th></tr>\n",
       "\t<tr><th scope=col>&lt;fct&gt;</th></tr>\n",
       "</thead>\n",
       "<tbody>\n",
       "\t<tr><td>1</td></tr>\n",
       "</tbody>\n",
       "</table>\n"
      ],
      "text/latex": [
       "A tibble: 1 × 1\n",
       "\\begin{tabular}{l}\n",
       " Risk\\\\\n",
       " <fct>\\\\\n",
       "\\hline\n",
       "\t 1\\\\\n",
       "\\end{tabular}\n"
      ],
      "text/markdown": [
       "\n",
       "A tibble: 1 × 1\n",
       "\n",
       "| Risk &lt;fct&gt; |\n",
       "|---|\n",
       "| 1 |\n",
       "\n"
      ],
      "text/plain": [
       "  Risk\n",
       "1 1   "
      ]
     },
     "metadata": {},
     "output_type": "display_data"
    }
   ],
   "source": [
    "audit_training <- mutate(audit_risk_data_training, Risk = as_factor(Risk))\n",
    "audit_testing <- mutate(audit_risk_data_testing, Risk = as_factor(Risk))\n",
    "\n",
    "head(select(audit_training, Risk), 1)"
   ]
  },
  {
   "cell_type": "markdown",
   "metadata": {},
   "source": [
    "### 1.13 Exploring the Data through Tables to Inspect Quality, Inspect Trends, and Determine Variables"
   ]
  },
  {
   "cell_type": "markdown",
   "metadata": {},
   "source": [
    "There are too many column names. Let's examine all the column names and match them with the variables described in the introduction. There are many columns here that are never referenced in the research articles we used, so we can remove them since they are irrelevant to our analysis. Let's check the column names."
   ]
  },
  {
   "cell_type": "code",
   "execution_count": 9,
   "metadata": {},
   "outputs": [
    {
     "data": {
      "text/html": [
       "<style>\n",
       ".list-inline {list-style: none; margin:0; padding: 0}\n",
       ".list-inline>li {display: inline-block}\n",
       ".list-inline>li:not(:last-child)::after {content: \"\\00b7\"; padding: 0 .5ex}\n",
       "</style>\n",
       "<ol class=list-inline><li>'Sector_score'</li><li>'LOCATION_ID'</li><li>'PARA_A'</li><li>'Score_A'</li><li>'Risk_A'</li><li>'PARA_B'</li><li>'Score_B'</li><li>'Risk_B'</li><li>'TOTAL'</li><li>'numbers'</li><li>'Score_B_1'</li><li>'Risk_C'</li><li>'Money_Value'</li><li>'Score_MV'</li><li>'Risk_D'</li><li>'District_Loss'</li><li>'PROB'</li><li>'RiSk_E'</li><li>'History'</li><li>'Prob'</li><li>'Risk_F'</li><li>'Score'</li><li>'Inherent_Risk'</li><li>'CONTROL_RISK'</li><li>'Detection_Risk'</li><li>'Audit_Risk'</li><li>'Risk'</li></ol>\n"
      ],
      "text/latex": [
       "\\begin{enumerate*}\n",
       "\\item 'Sector\\_score'\n",
       "\\item 'LOCATION\\_ID'\n",
       "\\item 'PARA\\_A'\n",
       "\\item 'Score\\_A'\n",
       "\\item 'Risk\\_A'\n",
       "\\item 'PARA\\_B'\n",
       "\\item 'Score\\_B'\n",
       "\\item 'Risk\\_B'\n",
       "\\item 'TOTAL'\n",
       "\\item 'numbers'\n",
       "\\item 'Score\\_B\\_1'\n",
       "\\item 'Risk\\_C'\n",
       "\\item 'Money\\_Value'\n",
       "\\item 'Score\\_MV'\n",
       "\\item 'Risk\\_D'\n",
       "\\item 'District\\_Loss'\n",
       "\\item 'PROB'\n",
       "\\item 'RiSk\\_E'\n",
       "\\item 'History'\n",
       "\\item 'Prob'\n",
       "\\item 'Risk\\_F'\n",
       "\\item 'Score'\n",
       "\\item 'Inherent\\_Risk'\n",
       "\\item 'CONTROL\\_RISK'\n",
       "\\item 'Detection\\_Risk'\n",
       "\\item 'Audit\\_Risk'\n",
       "\\item 'Risk'\n",
       "\\end{enumerate*}\n"
      ],
      "text/markdown": [
       "1. 'Sector_score'\n",
       "2. 'LOCATION_ID'\n",
       "3. 'PARA_A'\n",
       "4. 'Score_A'\n",
       "5. 'Risk_A'\n",
       "6. 'PARA_B'\n",
       "7. 'Score_B'\n",
       "8. 'Risk_B'\n",
       "9. 'TOTAL'\n",
       "10. 'numbers'\n",
       "11. 'Score_B_1'\n",
       "12. 'Risk_C'\n",
       "13. 'Money_Value'\n",
       "14. 'Score_MV'\n",
       "15. 'Risk_D'\n",
       "16. 'District_Loss'\n",
       "17. 'PROB'\n",
       "18. 'RiSk_E'\n",
       "19. 'History'\n",
       "20. 'Prob'\n",
       "21. 'Risk_F'\n",
       "22. 'Score'\n",
       "23. 'Inherent_Risk'\n",
       "24. 'CONTROL_RISK'\n",
       "25. 'Detection_Risk'\n",
       "26. 'Audit_Risk'\n",
       "27. 'Risk'\n",
       "\n",
       "\n"
      ],
      "text/plain": [
       " [1] \"Sector_score\"   \"LOCATION_ID\"    \"PARA_A\"         \"Score_A\"       \n",
       " [5] \"Risk_A\"         \"PARA_B\"         \"Score_B\"        \"Risk_B\"        \n",
       " [9] \"TOTAL\"          \"numbers\"        \"Score_B_1\"      \"Risk_C\"        \n",
       "[13] \"Money_Value\"    \"Score_MV\"       \"Risk_D\"         \"District_Loss\" \n",
       "[17] \"PROB\"           \"RiSk_E\"         \"History\"        \"Prob\"          \n",
       "[21] \"Risk_F\"         \"Score\"          \"Inherent_Risk\"  \"CONTROL_RISK\"  \n",
       "[25] \"Detection_Risk\" \"Audit_Risk\"     \"Risk\"          "
      ]
     },
     "metadata": {},
     "output_type": "display_data"
    }
   ],
   "source": [
    "colnames(audit_training)"
   ]
  },
  {
   "cell_type": "markdown",
   "metadata": {},
   "source": [
    "Most of these column names can seemingly be match up with our introduction. We should remove the ones that cannot be matched, or ones that cannot be found in the data but are in our research articles. For example, one of the articles and our introduction mention a Loss variable (Hooda 2018) which is no where to be seen in the data. The only variable similar in name is District_Loss, which refers to something else. The variables we will keep and consider for our model are:\n",
    "- PARA_A\n",
    "- PARA_B\n",
    "- TOTAL\n",
    "- numbers\n",
    "- Money_Value\n",
    "- History\n",
    "- Risk\n",
    "- Sector_score.\n",
    "\n",
    "Notably, we are missing two variables that we originally wanted to inspect for worthiness in our model. These are Loss and District Score. Loss, on inspection of the description, is not an important variable to consider because History is a better form of Loss. Loss refers to monetary loss in the last year, while History refers to monetary loss in the last 10 years. The Loss variable could be somewhat random, while History would be consistent as it is over a longer period of time. Hence, we can discard Loss.\n",
    "\n",
    "District Score is a calculated value. This would not be a great variable to include because it would have to be calculated before the model could be used. Hence, we can discard District Score.\n",
    "\n",
    "We can select the columns we want to consider and display some rows to examine any trends:"
   ]
  },
  {
   "cell_type": "code",
   "execution_count": 10,
   "metadata": {},
   "outputs": [
    {
     "data": {
      "text/html": [
       "<table>\n",
       "<caption>A tibble: 12 × 8</caption>\n",
       "<thead>\n",
       "\t<tr><th scope=col>PARA_A</th><th scope=col>PARA_B</th><th scope=col>TOTAL</th><th scope=col>numbers</th><th scope=col>Money_Value</th><th scope=col>History</th><th scope=col>Risk</th><th scope=col>Sector_score</th></tr>\n",
       "\t<tr><th scope=col>&lt;dbl&gt;</th><th scope=col>&lt;dbl&gt;</th><th scope=col>&lt;dbl&gt;</th><th scope=col>&lt;dbl&gt;</th><th scope=col>&lt;dbl&gt;</th><th scope=col>&lt;dbl&gt;</th><th scope=col>&lt;fct&gt;</th><th scope=col>&lt;dbl&gt;</th></tr>\n",
       "</thead>\n",
       "<tbody>\n",
       "\t<tr><td>0.00</td><td>10.80</td><td>10.80</td><td>6.0</td><td>11.750</td><td>0</td><td>1</td><td>3.89</td></tr>\n",
       "\t<tr><td>0.00</td><td> 0.08</td><td> 0.08</td><td>5.0</td><td> 0.000</td><td>0</td><td>0</td><td>3.89</td></tr>\n",
       "\t<tr><td>1.10</td><td> 7.41</td><td> 8.51</td><td>5.0</td><td>44.950</td><td>0</td><td>1</td><td>3.89</td></tr>\n",
       "\t<tr><td>8.50</td><td>12.03</td><td>20.53</td><td>5.5</td><td> 7.790</td><td>0</td><td>1</td><td>3.89</td></tr>\n",
       "\t<tr><td>8.40</td><td>11.05</td><td>19.45</td><td>5.5</td><td> 7.340</td><td>0</td><td>1</td><td>3.89</td></tr>\n",
       "\t<tr><td>3.98</td><td> 0.99</td><td> 4.97</td><td>5.0</td><td> 1.930</td><td>0</td><td>0</td><td>3.89</td></tr>\n",
       "\t<tr><td>5.43</td><td>10.77</td><td>16.20</td><td>5.0</td><td> 4.420</td><td>0</td><td>1</td><td>3.89</td></tr>\n",
       "\t<tr><td>5.47</td><td> 7.63</td><td>13.10</td><td>5.0</td><td>10.430</td><td>1</td><td>1</td><td>3.89</td></tr>\n",
       "\t<tr><td>1.09</td><td> 0.35</td><td> 1.44</td><td>5.0</td><td> 0.000</td><td>0</td><td>0</td><td>3.89</td></tr>\n",
       "\t<tr><td>0.00</td><td> 0.84</td><td> 0.84</td><td>5.0</td><td> 0.007</td><td>0</td><td>0</td><td>3.89</td></tr>\n",
       "\t<tr><td>4.18</td><td> 4.83</td><td> 9.01</td><td>5.5</td><td>14.030</td><td>0</td><td>1</td><td>3.89</td></tr>\n",
       "\t<tr><td>6.26</td><td>14.10</td><td>20.36</td><td>5.0</td><td>34.240</td><td>1</td><td>1</td><td>3.89</td></tr>\n",
       "</tbody>\n",
       "</table>\n"
      ],
      "text/latex": [
       "A tibble: 12 × 8\n",
       "\\begin{tabular}{llllllll}\n",
       " PARA\\_A & PARA\\_B & TOTAL & numbers & Money\\_Value & History & Risk & Sector\\_score\\\\\n",
       " <dbl> & <dbl> & <dbl> & <dbl> & <dbl> & <dbl> & <fct> & <dbl>\\\\\n",
       "\\hline\n",
       "\t 0.00 & 10.80 & 10.80 & 6.0 & 11.750 & 0 & 1 & 3.89\\\\\n",
       "\t 0.00 &  0.08 &  0.08 & 5.0 &  0.000 & 0 & 0 & 3.89\\\\\n",
       "\t 1.10 &  7.41 &  8.51 & 5.0 & 44.950 & 0 & 1 & 3.89\\\\\n",
       "\t 8.50 & 12.03 & 20.53 & 5.5 &  7.790 & 0 & 1 & 3.89\\\\\n",
       "\t 8.40 & 11.05 & 19.45 & 5.5 &  7.340 & 0 & 1 & 3.89\\\\\n",
       "\t 3.98 &  0.99 &  4.97 & 5.0 &  1.930 & 0 & 0 & 3.89\\\\\n",
       "\t 5.43 & 10.77 & 16.20 & 5.0 &  4.420 & 0 & 1 & 3.89\\\\\n",
       "\t 5.47 &  7.63 & 13.10 & 5.0 & 10.430 & 1 & 1 & 3.89\\\\\n",
       "\t 1.09 &  0.35 &  1.44 & 5.0 &  0.000 & 0 & 0 & 3.89\\\\\n",
       "\t 0.00 &  0.84 &  0.84 & 5.0 &  0.007 & 0 & 0 & 3.89\\\\\n",
       "\t 4.18 &  4.83 &  9.01 & 5.5 & 14.030 & 0 & 1 & 3.89\\\\\n",
       "\t 6.26 & 14.10 & 20.36 & 5.0 & 34.240 & 1 & 1 & 3.89\\\\\n",
       "\\end{tabular}\n"
      ],
      "text/markdown": [
       "\n",
       "A tibble: 12 × 8\n",
       "\n",
       "| PARA_A &lt;dbl&gt; | PARA_B &lt;dbl&gt; | TOTAL &lt;dbl&gt; | numbers &lt;dbl&gt; | Money_Value &lt;dbl&gt; | History &lt;dbl&gt; | Risk &lt;fct&gt; | Sector_score &lt;dbl&gt; |\n",
       "|---|---|---|---|---|---|---|---|\n",
       "| 0.00 | 10.80 | 10.80 | 6.0 | 11.750 | 0 | 1 | 3.89 |\n",
       "| 0.00 |  0.08 |  0.08 | 5.0 |  0.000 | 0 | 0 | 3.89 |\n",
       "| 1.10 |  7.41 |  8.51 | 5.0 | 44.950 | 0 | 1 | 3.89 |\n",
       "| 8.50 | 12.03 | 20.53 | 5.5 |  7.790 | 0 | 1 | 3.89 |\n",
       "| 8.40 | 11.05 | 19.45 | 5.5 |  7.340 | 0 | 1 | 3.89 |\n",
       "| 3.98 |  0.99 |  4.97 | 5.0 |  1.930 | 0 | 0 | 3.89 |\n",
       "| 5.43 | 10.77 | 16.20 | 5.0 |  4.420 | 0 | 1 | 3.89 |\n",
       "| 5.47 |  7.63 | 13.10 | 5.0 | 10.430 | 1 | 1 | 3.89 |\n",
       "| 1.09 |  0.35 |  1.44 | 5.0 |  0.000 | 0 | 0 | 3.89 |\n",
       "| 0.00 |  0.84 |  0.84 | 5.0 |  0.007 | 0 | 0 | 3.89 |\n",
       "| 4.18 |  4.83 |  9.01 | 5.5 | 14.030 | 0 | 1 | 3.89 |\n",
       "| 6.26 | 14.10 | 20.36 | 5.0 | 34.240 | 1 | 1 | 3.89 |\n",
       "\n"
      ],
      "text/plain": [
       "   PARA_A PARA_B TOTAL numbers Money_Value History Risk Sector_score\n",
       "1  0.00   10.80  10.80 6.0     11.750      0       1    3.89        \n",
       "2  0.00    0.08   0.08 5.0      0.000      0       0    3.89        \n",
       "3  1.10    7.41   8.51 5.0     44.950      0       1    3.89        \n",
       "4  8.50   12.03  20.53 5.5      7.790      0       1    3.89        \n",
       "5  8.40   11.05  19.45 5.5      7.340      0       1    3.89        \n",
       "6  3.98    0.99   4.97 5.0      1.930      0       0    3.89        \n",
       "7  5.43   10.77  16.20 5.0      4.420      0       1    3.89        \n",
       "8  5.47    7.63  13.10 5.0     10.430      1       1    3.89        \n",
       "9  1.09    0.35   1.44 5.0      0.000      0       0    3.89        \n",
       "10 0.00    0.84   0.84 5.0      0.007      0       0    3.89        \n",
       "11 4.18    4.83   9.01 5.5     14.030      0       1    3.89        \n",
       "12 6.26   14.10  20.36 5.0     34.240      1       1    3.89        "
      ]
     },
     "metadata": {},
     "output_type": "display_data"
    }
   ],
   "source": [
    "audit_consider <- audit_training %>% select(PARA_A, PARA_B, TOTAL, numbers, Money_Value, History, Risk, Sector_score)\n",
    "\n",
    "head(audit_consider, 12)"
   ]
  },
  {
   "cell_type": "markdown",
   "metadata": {},
   "source": [
    "#### [Table 1.13]. Legend: See [Figure 1.0]"
   ]
  },
  {
   "cell_type": "markdown",
   "metadata": {},
   "source": [
    "From Table 1.13, it is clear that TOTAL, Money_Value, PARA_A, and PARA_B have a relationship with Risk, indicating that these could be possible variables to predict Risk. All the observations with Risk = 1 have a TOTAL >= 8.51 while the max of TOTAL for observations with Risk = 0 in this table is 4.97.\n",
    "\n",
    "Another thing of notability is the values for PARA_A, PARA_B, and TOTAL. In the rows, TOTAL appears to be the sum of PARA_A and PARA_B. Let's examine this further by creating a new column called AB that is the sum of PARA_A and PARA_B. Then we should check how many rows have TOTAL and AB not equal. Since we are comparing decimals that are vulnerable to floating point error we should compare with an epsilon of 0.1."
   ]
  },
  {
   "cell_type": "code",
   "execution_count": 11,
   "metadata": {},
   "outputs": [
    {
     "data": {
      "text/html": [
       "<table>\n",
       "<caption>A tibble: 1 × 10</caption>\n",
       "<thead>\n",
       "\t<tr><th scope=col>PARA_A</th><th scope=col>PARA_B</th><th scope=col>TOTAL</th><th scope=col>numbers</th><th scope=col>Money_Value</th><th scope=col>History</th><th scope=col>Risk</th><th scope=col>Sector_score</th><th scope=col>AB</th><th scope=col>equal</th></tr>\n",
       "\t<tr><th scope=col>&lt;dbl&gt;</th><th scope=col>&lt;dbl&gt;</th><th scope=col>&lt;dbl&gt;</th><th scope=col>&lt;dbl&gt;</th><th scope=col>&lt;dbl&gt;</th><th scope=col>&lt;dbl&gt;</th><th scope=col>&lt;fct&gt;</th><th scope=col>&lt;dbl&gt;</th><th scope=col>&lt;dbl&gt;</th><th scope=col>&lt;lgl&gt;</th></tr>\n",
       "</thead>\n",
       "<tbody>\n",
       "\t<tr><td>20.65</td><td>0</td><td>0</td><td>6</td><td>397.31</td><td>1</td><td>1</td><td>15.56</td><td>20.65</td><td>FALSE</td></tr>\n",
       "</tbody>\n",
       "</table>\n"
      ],
      "text/latex": [
       "A tibble: 1 × 10\n",
       "\\begin{tabular}{llllllllll}\n",
       " PARA\\_A & PARA\\_B & TOTAL & numbers & Money\\_Value & History & Risk & Sector\\_score & AB & equal\\\\\n",
       " <dbl> & <dbl> & <dbl> & <dbl> & <dbl> & <dbl> & <fct> & <dbl> & <dbl> & <lgl>\\\\\n",
       "\\hline\n",
       "\t 20.65 & 0 & 0 & 6 & 397.31 & 1 & 1 & 15.56 & 20.65 & FALSE\\\\\n",
       "\\end{tabular}\n"
      ],
      "text/markdown": [
       "\n",
       "A tibble: 1 × 10\n",
       "\n",
       "| PARA_A &lt;dbl&gt; | PARA_B &lt;dbl&gt; | TOTAL &lt;dbl&gt; | numbers &lt;dbl&gt; | Money_Value &lt;dbl&gt; | History &lt;dbl&gt; | Risk &lt;fct&gt; | Sector_score &lt;dbl&gt; | AB &lt;dbl&gt; | equal &lt;lgl&gt; |\n",
       "|---|---|---|---|---|---|---|---|---|---|\n",
       "| 20.65 | 0 | 0 | 6 | 397.31 | 1 | 1 | 15.56 | 20.65 | FALSE |\n",
       "\n"
      ],
      "text/plain": [
       "  PARA_A PARA_B TOTAL numbers Money_Value History Risk Sector_score AB    equal\n",
       "1 20.65  0      0     6       397.31      1       1    15.56        20.65 FALSE"
      ]
     },
     "metadata": {},
     "output_type": "display_data"
    }
   ],
   "source": [
    "audit_total_ne_aplusb <- audit_consider %>%\n",
    "mutate(AB = PARA_A + PARA_B, equal = (abs(AB - TOTAL) <= 0.1)) %>%\n",
    "filter(equal == FALSE)\n",
    "\n",
    "head(audit_total_ne_aplusb, 12)"
   ]
  },
  {
   "cell_type": "markdown",
   "metadata": {},
   "source": [
    "#### [Table 1.131]. Legend: See [Figure 1.0]"
   ]
  },
  {
   "cell_type": "markdown",
   "metadata": {},
   "source": [
    "It seems like TOTAL is simply the sum of PARA_A and PARA_B. There is only one observation that has a difference abs(AB - TOTAL) greater than 0.1. This could be an error in the observation or it could be an obscure case. Based on this exploratory analysis of the data, we can conclude that TOTAL is the sum of PARA_A and PARA_B. When inspecting Para A, Para B, and Total, they all represent discrepancies in reported spending vs audited spending. Discrepancies in reported vs audited spending would be extremely valuable to determine if a firm is fraudulent because false reporting of money spending would likely indicate suspicious activity. Hence, we should include a variable that describes discrepancy in spending. Since Total includes Para A, Para B, and other discrepancies, it makes more sense to only include Total and remove Para A and Para B as predictor variables.\n",
    "\n",
    "#### Visualizing the Training Data to Detect Trends and Find Relevant Variables\n",
    "\n",
    "#### Money_Value\n",
    "\n",
    "Next let's look at Money_Value, another one of the numbers that seemed to have some sort of relationship with Risk. In Table 1.13, high Money_Value values correspond with a Risk value of 1. We can create two histograms, one with the distributions of Money_Value for observations of Risk = 1, and the other with the distributions of Money_Value for observations of Risk = 0.\n",
    "\n",
    "We can do this by using facet_grid() to create 2 separate histogram distribution plots of Money_Value for Risk == 0 and Risk == 1."
   ]
  },
  {
   "cell_type": "code",
   "execution_count": 12,
   "metadata": {},
   "outputs": [
    {
     "name": "stderr",
     "output_type": "stream",
     "text": [
      "Warning message:\n",
      "“Transformation introduced infinite values in continuous x-axis”\n",
      "`stat_bin()` using `bins = 30`. Pick better value with `binwidth`.\n",
      "\n",
      "Warning message:\n",
      "“Removed 217 rows containing non-finite values (stat_bin).”\n"
     ]
    },
    {
     "data": {
      "image/png": "[encoded data removed]",
      "text/plain": [
       "plot without title"
      ]
     },
     "metadata": {
      "image/png": {
       "height": 420,
       "width": 720
      }
     },
     "output_type": "display_data"
    }
   ],
   "source": [
    "options(repr.plot.width = 12, repr.plot.height = 7)\n",
    "\n",
    "money_value_plot <- audit_consider %>%\n",
    "ggplot(aes(x = Money_Value)) +\n",
    "facet_grid(. ~ Risk) +\n",
    "geom_histogram() +\n",
    "labs(x = \"Money Value\", y = \"Count\") +\n",
    "ggtitle(\"Money Value distribution for Risk Values of 0 and 1 Respectively\") +\n",
    "theme(text = element_text(size = 20)) +\n",
    "scale_x_log10()\n",
    "\n",
    "money_value_plot"
   ]
  },
  {
   "cell_type": "markdown",
   "metadata": {},
   "source": [
    "#### [Figure 1.132]. Money Value: Amount of Money involved in misstatements (Hooda 2018)"
   ]
  },
  {
   "cell_type": "markdown",
   "metadata": {},
   "source": [
    "From Figure 1.132, it's pretty clear that Money Values associated with a Risk value of 1 are much higher on average than Money Values associated with a Risk value of 0. The histogram for Risk == 1 is shifted farther to the right and has a center of around 10, while the hitogram for Risk == 0 has a center of between 0.1 and 1.\n",
    "\n",
    "#### TOTAL\n",
    "\n",
    "We haven't done this for TOTAL yet, so let's do that:"
   ]
  },
  {
   "cell_type": "code",
   "execution_count": 13,
   "metadata": {},
   "outputs": [
    {
     "name": "stderr",
     "output_type": "stream",
     "text": [
      "Warning message:\n",
      "“Transformation introduced infinite values in continuous x-axis”\n",
      "`stat_bin()` using `bins = 30`. Pick better value with `binwidth`.\n",
      "\n",
      "Warning message:\n",
      "“Removed 64 rows containing non-finite values (stat_bin).”\n"
     ]
    },
    {
     "data": {
      "image/png": "[encoded data removed]",
      "text/plain": [
       "plot without title"
      ]
     },
     "metadata": {
      "image/png": {
       "height": 420,
       "width": 720
      }
     },
     "output_type": "display_data"
    }
   ],
   "source": [
    "options(repr.plot.width = 12, repr.plot.height = 7)\n",
    "\n",
    "money_value_plot <- audit_consider %>%\n",
    "ggplot(aes(x = TOTAL)) +\n",
    "facet_grid(. ~ Risk) +\n",
    "geom_histogram() +\n",
    "labs(x = \"TOTAL (Rs in Crore)\", y = \"Count\") +\n",
    "ggtitle(\"TOTAL Distribution for Risk Values of 0 and 1 Respectively\") +\n",
    "theme(text = element_text(size = 20)) +\n",
    "scale_x_log10()\n",
    "\n",
    "money_value_plot"
   ]
  },
  {
   "cell_type": "markdown",
   "metadata": {},
   "source": [
    "#### [Figure 1.133]. TOTAL: Discrepencies in planned and unplanned spending"
   ]
  },
  {
   "cell_type": "markdown",
   "metadata": {},
   "source": [
    "From Figure 1.133, there also appears to be an trend. There are much more TOTAL values greater than 0 if Risk == 1. We can quantitavely determine if they are good variables by checking their mean for Risk == 0 and Risk == 1. Let's create a mean, min, max, and sd table for each of the variables in Table 1.13, separated by Risk value, to help determine if they would be a good candidate or not:\n",
    "\n",
    "# Maybe more info here"
   ]
  },
  {
   "cell_type": "code",
   "execution_count": 14,
   "metadata": {},
   "outputs": [
    {
     "data": {
      "text/html": [
       "<table>\n",
       "<caption>A tibble: 8 × 9</caption>\n",
       "<thead>\n",
       "\t<tr><th scope=col>PARA_A</th><th scope=col>PARA_B</th><th scope=col>TOTAL</th><th scope=col>numbers</th><th scope=col>Money_Value</th><th scope=col>History</th><th scope=col>Sector_score</th><th scope=col>Stat</th><th scope=col>Risk</th></tr>\n",
       "\t<tr><th scope=col>&lt;dbl&gt;</th><th scope=col>&lt;dbl&gt;</th><th scope=col>&lt;dbl&gt;</th><th scope=col>&lt;dbl&gt;</th><th scope=col>&lt;dbl&gt;</th><th scope=col>&lt;dbl&gt;</th><th scope=col>&lt;dbl&gt;</th><th scope=col>&lt;chr&gt;</th><th scope=col>&lt;dbl&gt;</th></tr>\n",
       "</thead>\n",
       "<tbody>\n",
       "\t<tr><td> 0.7248408</td><td>   0.4493433</td><td>   1.174184</td><td>5.00159236</td><td>  0.3856997</td><td>0.003184713</td><td>26.792197</td><td>Mean</td><td>0</td></tr>\n",
       "\t<tr><td> 0.9624982</td><td>   0.8833369</td><td>   1.327482</td><td>0.02821663</td><td>  1.0864456</td><td>0.056433265</td><td>25.742227</td><td>SD  </td><td>0</td></tr>\n",
       "\t<tr><td> 0.0000000</td><td>   0.0000000</td><td>   0.000000</td><td>5.00000000</td><td>  0.0000000</td><td>0.000000000</td><td> 1.850000</td><td>Min </td><td>0</td></tr>\n",
       "\t<tr><td> 5.2000000</td><td>   7.3700000</td><td>   7.370000</td><td>5.50000000</td><td>  8.2100000</td><td>1.000000000</td><td>59.850000</td><td>Max </td><td>0</td></tr>\n",
       "\t<tr><td> 0.0000000</td><td>   0.0000000</td><td>   0.000000</td><td>5.00000000</td><td>  0.0000000</td><td>0.000000000</td><td> 1.850000</td><td>Min </td><td>1</td></tr>\n",
       "\t<tr><td>85.0000000</td><td>1264.6300000</td><td>1268.910000</td><td>6.50000000</td><td>935.0300000</td><td>9.000000000</td><td>59.850000</td><td>Max </td><td>1</td></tr>\n",
       "\t<tr><td> 5.6920127</td><td>  27.8664706</td><td>  33.457258</td><td>5.12254902</td><td> 43.3901471</td><td>0.284313725</td><td> 8.323578</td><td>Mean</td><td>1</td></tr>\n",
       "\t<tr><td> 9.7573038</td><td>  91.6450063</td><td>  92.690083</td><td>0.27125211</td><td>123.5624716</td><td>0.858196654</td><td>15.807394</td><td>SD  </td><td>1</td></tr>\n",
       "</tbody>\n",
       "</table>\n"
      ],
      "text/latex": [
       "A tibble: 8 × 9\n",
       "\\begin{tabular}{lllllllll}\n",
       " PARA\\_A & PARA\\_B & TOTAL & numbers & Money\\_Value & History & Sector\\_score & Stat & Risk\\\\\n",
       " <dbl> & <dbl> & <dbl> & <dbl> & <dbl> & <dbl> & <dbl> & <chr> & <dbl>\\\\\n",
       "\\hline\n",
       "\t  0.7248408 &    0.4493433 &    1.174184 & 5.00159236 &   0.3856997 & 0.003184713 & 26.792197 & Mean & 0\\\\\n",
       "\t  0.9624982 &    0.8833369 &    1.327482 & 0.02821663 &   1.0864456 & 0.056433265 & 25.742227 & SD   & 0\\\\\n",
       "\t  0.0000000 &    0.0000000 &    0.000000 & 5.00000000 &   0.0000000 & 0.000000000 &  1.850000 & Min  & 0\\\\\n",
       "\t  5.2000000 &    7.3700000 &    7.370000 & 5.50000000 &   8.2100000 & 1.000000000 & 59.850000 & Max  & 0\\\\\n",
       "\t  0.0000000 &    0.0000000 &    0.000000 & 5.00000000 &   0.0000000 & 0.000000000 &  1.850000 & Min  & 1\\\\\n",
       "\t 85.0000000 & 1264.6300000 & 1268.910000 & 6.50000000 & 935.0300000 & 9.000000000 & 59.850000 & Max  & 1\\\\\n",
       "\t  5.6920127 &   27.8664706 &   33.457258 & 5.12254902 &  43.3901471 & 0.284313725 &  8.323578 & Mean & 1\\\\\n",
       "\t  9.7573038 &   91.6450063 &   92.690083 & 0.27125211 & 123.5624716 & 0.858196654 & 15.807394 & SD   & 1\\\\\n",
       "\\end{tabular}\n"
      ],
      "text/markdown": [
       "\n",
       "A tibble: 8 × 9\n",
       "\n",
       "| PARA_A &lt;dbl&gt; | PARA_B &lt;dbl&gt; | TOTAL &lt;dbl&gt; | numbers &lt;dbl&gt; | Money_Value &lt;dbl&gt; | History &lt;dbl&gt; | Sector_score &lt;dbl&gt; | Stat &lt;chr&gt; | Risk &lt;dbl&gt; |\n",
       "|---|---|---|---|---|---|---|---|---|\n",
       "|  0.7248408 |    0.4493433 |    1.174184 | 5.00159236 |   0.3856997 | 0.003184713 | 26.792197 | Mean | 0 |\n",
       "|  0.9624982 |    0.8833369 |    1.327482 | 0.02821663 |   1.0864456 | 0.056433265 | 25.742227 | SD   | 0 |\n",
       "|  0.0000000 |    0.0000000 |    0.000000 | 5.00000000 |   0.0000000 | 0.000000000 |  1.850000 | Min  | 0 |\n",
       "|  5.2000000 |    7.3700000 |    7.370000 | 5.50000000 |   8.2100000 | 1.000000000 | 59.850000 | Max  | 0 |\n",
       "|  0.0000000 |    0.0000000 |    0.000000 | 5.00000000 |   0.0000000 | 0.000000000 |  1.850000 | Min  | 1 |\n",
       "| 85.0000000 | 1264.6300000 | 1268.910000 | 6.50000000 | 935.0300000 | 9.000000000 | 59.850000 | Max  | 1 |\n",
       "|  5.6920127 |   27.8664706 |   33.457258 | 5.12254902 |  43.3901471 | 0.284313725 |  8.323578 | Mean | 1 |\n",
       "|  9.7573038 |   91.6450063 |   92.690083 | 0.27125211 | 123.5624716 | 0.858196654 | 15.807394 | SD   | 1 |\n",
       "\n"
      ],
      "text/plain": [
       "  PARA_A     PARA_B       TOTAL       numbers    Money_Value History    \n",
       "1  0.7248408    0.4493433    1.174184 5.00159236   0.3856997 0.003184713\n",
       "2  0.9624982    0.8833369    1.327482 0.02821663   1.0864456 0.056433265\n",
       "3  0.0000000    0.0000000    0.000000 5.00000000   0.0000000 0.000000000\n",
       "4  5.2000000    7.3700000    7.370000 5.50000000   8.2100000 1.000000000\n",
       "5  0.0000000    0.0000000    0.000000 5.00000000   0.0000000 0.000000000\n",
       "6 85.0000000 1264.6300000 1268.910000 6.50000000 935.0300000 9.000000000\n",
       "7  5.6920127   27.8664706   33.457258 5.12254902  43.3901471 0.284313725\n",
       "8  9.7573038   91.6450063   92.690083 0.27125211 123.5624716 0.858196654\n",
       "  Sector_score Stat Risk\n",
       "1 26.792197    Mean 0   \n",
       "2 25.742227    SD   0   \n",
       "3  1.850000    Min  0   \n",
       "4 59.850000    Max  0   \n",
       "5  1.850000    Min  1   \n",
       "6 59.850000    Max  1   \n",
       "7  8.323578    Mean 1   \n",
       "8 15.807394    SD   1   "
      ]
     },
     "metadata": {},
     "output_type": "display_data"
    }
   ],
   "source": [
    "bind_rows(filter(audit_consider, Risk == 0) %>%\n",
    "select(-Risk) %>%\n",
    "map_df(mean, na.rm = TRUE) %>%\n",
    "mutate(Stat = \"Mean\", Risk = 0) %>%\n",
    "bind_rows(audit_consider %>%\n",
    "         filter(Risk == 0) %>%\n",
    "         select(-Risk) %>%\n",
    "         map_df(sd, na.rm = TRUE) %>%\n",
    "         mutate(Stat = \"SD\", Risk = 0)),\n",
    "          \n",
    "filter(audit_consider, Risk == 0) %>%\n",
    "          select(-Risk) %>%\n",
    "          map_df(min, na.rm = TRUE) %>%\n",
    "          mutate(Stat = \"Min\", Risk = 0),\n",
    "          \n",
    "filter(audit_consider, Risk == 0) %>%\n",
    "          select(-Risk) %>%\n",
    "          map_df(max, na.rm = TRUE) %>%\n",
    "          mutate(Stat = \"Max\", Risk = 0),\n",
    "          \n",
    "          filter(audit_consider, Risk == 1) %>%\n",
    "          select(-Risk) %>%\n",
    "          map_df(min, na.rm = TRUE) %>%\n",
    "          mutate(Stat = \"Min\", Risk = 1),\n",
    "          \n",
    "filter(audit_consider, Risk == 1) %>%\n",
    "          select(-Risk) %>%\n",
    "          map_df(max, na.rm = TRUE) %>%\n",
    "          mutate(Stat = \"Max\", Risk = 1),\n",
    "\n",
    "filter(audit_consider, Risk == 1) %>%\n",
    "select(-Risk) %>%\n",
    "map_df(mean, na.rm = TRUE) %>%\n",
    "mutate(Stat = \"Mean\", Risk = 1) %>%\n",
    "bind_rows(audit_consider %>%\n",
    "         filter(Risk == 1) %>%\n",
    "         select(-Risk) %>%\n",
    "         map_df(sd, na.rm = TRUE) %>%\n",
    "         mutate(Stat = \"SD\", Risk = 1)))"
   ]
  },
  {
   "cell_type": "markdown",
   "metadata": {},
   "source": [
    "#### [Table 1.134]. Legend: See [Figure 1.0]"
   ]
  },
  {
   "cell_type": "markdown",
   "metadata": {},
   "source": [
    "The means of TOTAL for Risk == 1 and Risk == 0 vary greatly. The mean TOTAL for Risk == 0 is about 1, but it is ~33 for Risk == 1. This supports our choice of TOTAL as a predictor variable because it indicates that TOTAL can be used to determine if a firm is fraudulent or not. Same with Money_Value. The mean for Risk == 0 is about 0.5, while the mean for Risk == 1 is about 43. Using the same reasoning, we can conclude that these two variables are good for our model.\n",
    "\n",
    "So far, we have ruled out PARA_A and PARA_B and chosen TOTAL and Money_Value. That leaves these possible predictor variables:\n",
    "\n",
    "- numbers\n",
    "- Sector_score\n",
    "- History\n",
    "\n",
    "#### numbers and Sector_score\n",
    "\n",
    "Although both numbers and Sector_score appear to be possible predictors, they are both unmeasured quantities. The variable, \"numbers,\" refers to historical discrepancy score, which is non-measured. Sector_score was determined by analysis (Hooda 2018). This rules both of them out because our model would be more practical if these values did not need to be included.\n",
    "\n",
    "#### History\n",
    "\n",
    "Now we can consider if we want to include History as a predictor variable. History could be valuable to our analysis because a fraudulent firm would likely suffer losses on record because the firm has to commit fraud in order to prevent catastrophic loss, or the firm reports losses when in fact the money went somewhere else. In addition, a firm deemed suspicous, and therefore possibly fraudulent, would be more likely to suffer losses since investors and other business people would be less inclined to work with the firm.\n",
    "\n",
    "Table 1.134 supports adding History as a variable. For Risk == 0, History has a mean of ~0.003 and does not vary by much, only having an SD of ~0.056. In contrast, History for Risk == 1 has a mean of ~0.28 and an SD of ~0.86. History score would be a good predictor to include in our model.\n",
    "\n",
    "We have finally considered all the possible predictors and chosen three for the model.\n",
    "\n",
    "#### Summary of Chosen Variables:\n",
    "\n",
    "To summarize, these are the variables that we will use to create our KNN classification model:\n",
    "\n",
    "<strong>1. History : Average monetary loss by a firm in the last 10 years (Hooda 2018)</strong>\n",
    "\n",
    "This was chosen because of its relationship to Risk in Table 1.134. Also, it is a measured quantity which can be determined from past audits. It describes loss which can be logically related to financial fraud. Hence, it is a strong choice for determining Risk.\n",
    "\n",
    "<strong>2. Total : Sum of discrepancies in Para A and Para B Indian Rupees (in Rs crore)</strong>\n",
    "\n",
    "This was also chosen because of its relationship to Risk in Table 1.134. It is a measured quantity and describes discrepancies in reported vs audited spending, which is instrumental in determing fraud.\n",
    "\n",
    "<strong>3. Money Value : Amount of money involved in misstatements (Hooda 2018)</strong>\n",
    "\n",
    "Also chosen for its relationship to Risk in Table 1.134. Measured quantity. Describes money involved in misstatements which should correlate with fraud because fraudulent companies may be likely to falsify money in statements.\n",
    "\n",
    "<strong>4. Risk : the predicted variable. Factor that is either one or zero. One indicates fraud and zero indicates that the firm has been determined to be non-fraudulent.</strong>"
   ]
  },
  {
   "cell_type": "markdown",
   "metadata": {},
   "source": [
    "Before we start the analysis, let's make sure that the number of observations with Risk == 1 and Risk == 0 are somewhat porportional so that we have enough of both to train our model:"
   ]
  },
  {
   "cell_type": "code",
   "execution_count": 15,
   "metadata": {},
   "outputs": [
    {
     "name": "stderr",
     "output_type": "stream",
     "text": [
      "`summarise()` ungrouping output (override with `.groups` argument)\n",
      "\n"
     ]
    },
    {
     "data": {
      "text/html": [
       "<table>\n",
       "<caption>A tibble: 2 × 2</caption>\n",
       "<thead>\n",
       "\t<tr><th scope=col>Risk</th><th scope=col>n</th></tr>\n",
       "\t<tr><th scope=col>&lt;dbl&gt;</th><th scope=col>&lt;int&gt;</th></tr>\n",
       "</thead>\n",
       "<tbody>\n",
       "\t<tr><td>0</td><td>314</td></tr>\n",
       "\t<tr><td>1</td><td>204</td></tr>\n",
       "</tbody>\n",
       "</table>\n"
      ],
      "text/latex": [
       "A tibble: 2 × 2\n",
       "\\begin{tabular}{ll}\n",
       " Risk & n\\\\\n",
       " <dbl> & <int>\\\\\n",
       "\\hline\n",
       "\t 0 & 314\\\\\n",
       "\t 1 & 204\\\\\n",
       "\\end{tabular}\n"
      ],
      "text/markdown": [
       "\n",
       "A tibble: 2 × 2\n",
       "\n",
       "| Risk &lt;dbl&gt; | n &lt;int&gt; |\n",
       "|---|---|\n",
       "| 0 | 314 |\n",
       "| 1 | 204 |\n",
       "\n"
      ],
      "text/plain": [
       "  Risk n  \n",
       "1 0    314\n",
       "2 1    204"
      ]
     },
     "metadata": {},
     "output_type": "display_data"
    }
   ],
   "source": [
    "audit_risk_data_count <- audit_risk_data_training %>%\n",
    "group_by(Risk) %>%\n",
    "summarize(n = n())\n",
    "\n",
    "audit_risk_data_count"
   ]
  },
  {
   "cell_type": "markdown",
   "metadata": {},
   "source": [
    "#### [Figure 1.135]. Risk: If a firm has been determined to be fraudulent (1) or not (0). n: the amount of observations with the respective Risk value."
   ]
  },
  {
   "cell_type": "markdown",
   "metadata": {},
   "source": [
    "We have about 200 observations with Risk == 1, and about 300 observations with Risk == 0. This should be enough observations, so we don't have to do any upsampling during our analysis."
   ]
  },
  {
   "cell_type": "markdown",
   "metadata": {},
   "source": [
    "## 1.2 Starting the Analysis\n",
    "\n",
    "### 1.21 Creating our Specs and Recipes\n",
    "\n",
    "We will use K nearest neighbours classification from tidymodels in order to create our classification model. Firstly, we have to find an optimum value of K by cross validation for each K from 1 to 50. To do this we will create a KNN spec that uses tune() for the number of neighbors and set the engine to KNN and the mode to classification. This spec will be used only to determine the value of K. After determining the new value of K, we will create a new spec that uses the final value of K instead of tune()."
   ]
  },
  {
   "cell_type": "code",
   "execution_count": 17,
   "metadata": {},
   "outputs": [],
   "source": [
    "set.seed(999998)\n",
    "\n",
    "audit_knn_spec <- nearest_neighbor(weight_func = \"rectangular\", neighbors = tune()) %>%\n",
    "set_engine(\"kknn\") %>%\n",
    "set_mode(\"classification\")"
   ]
  },
  {
   "cell_type": "markdown",
   "metadata": {},
   "source": [
    "Now we will create a recipe for our data. The predicted variable is Risk and the predictors are Money_Value, TOTAL, and History, so we put that as the first argument of recipe().\n",
    "\n",
    "We should standardize the data because the scales for the variables are very different. For example, History is on a scale from about 0 to ~9, while TOTAL is on a scale of 0 to ~1260. If we did not standardize, then History would have barely any effect because both the other predictors would have a substantially larger effect on the outcome of the classification. Hence, we add the steps for centering and scaling to the recipe."
   ]
  },
  {
   "cell_type": "code",
   "execution_count": 18,
   "metadata": {},
   "outputs": [],
   "source": [
    "set.seed(50)\n",
    "\n",
    "audit_training_recipe <- recipe(Risk ~ Money_Value + History + TOTAL, audit_training) %>%\n",
    "step_center(all_predictors()) %>%\n",
    "step_scale(all_predictors())"
   ]
  },
  {
   "cell_type": "markdown",
   "metadata": {},
   "source": [
    "Our final step before we combine these steps into a workflow is to create the vfold_cv object. We will use C = 5 folds and K values from 1 to 50. The range for K was arbitrarily chosen. If our visualization for the accuracies of various k's shows that there may lie an optimum value of K past 50, then we could have to retry with some larger values of K. First we create a variable named gridvals that is a column of integers from 1 to 50 inclusive. The name of the column is \"neighbors\".\n",
    "\n",
    "Then, we can create our vfold_cv object. We specify our C = 5 folds value and then pass Risk as the strata."
   ]
  },
  {
   "cell_type": "code",
   "execution_count": 19,
   "metadata": {},
   "outputs": [],
   "source": [
    "set.seed(1001)\n",
    "\n",
    "gridvals <- tibble(neighbors = 1:50)\n",
    "audit_vfold <- vfold_cv(audit_training, C = 5, strata = Risk)"
   ]
  },
  {
   "cell_type": "markdown",
   "metadata": {},
   "source": [
    "### 1.22 Tuning\n",
    "\n",
    "Finally we can combine the spec, recipe, and vfold_cv object in order to do a 5 fold cross validation. Then we will collect the metrics for each K value from 1 to 50 and order them by the accuracy to find the K with the highest accuracy.\n",
    "\n",
    "First, we will combine the model and the recipe we created. Then we will use tune_grid() to perform the cross validation for our vfold_cv object that we created earlier and our gridvals tibble from the code block directly above."
   ]
  },
  {
   "cell_type": "code",
   "execution_count": 20,
   "metadata": {},
   "outputs": [
    {
     "name": "stderr",
     "output_type": "stream",
     "text": [
      "\u001b[31mx\u001b[39m \u001b[31mFold04: model 1/1 (predictions): Error: Problem with `mutate()` input `.row`.\n",
      "\u001b[...\u001b[39m\n",
      "\n"
     ]
    }
   ],
   "source": [
    "set.seed(1015)\n",
    "\n",
    "audit_training_fit <- workflow() %>%\n",
    "add_model(audit_knn_spec) %>%\n",
    "add_recipe(audit_training_recipe) %>%\n",
    "tune_grid(resamples = audit_vfold, grid = gridvals)"
   ]
  },
  {
   "cell_type": "markdown",
   "metadata": {},
   "source": [
    "The collect_metrics can be used on audit_training_fit to extract the statistics for each value of K. We will use collect_metrics() and then filter for accuracy since that is the statistic we are interested in.\n",
    "\n",
    "We will plot the accuracy vs the values of K in order to visually determine which K has the highest accuracy. K values will be on the x axis (stepped by 2), and the mean accuracy of each model with their respective K value on the y axis:"
   ]
  },
  {
   "cell_type": "code",
   "execution_count": 21,
   "metadata": {},
   "outputs": [
    {
     "data": {
      "image/png": "[encoded data removed]",
      "text/plain": [
       "plot without title"
      ]
     },
     "metadata": {
      "image/png": {
       "height": 420,
       "width": 960
      }
     },
     "output_type": "display_data"
    }
   ],
   "source": [
    "set.seed(26)\n",
    "\n",
    "options(repr.plot.width = 16)\n",
    "\n",
    "audit_training_metrics <- collect_metrics(audit_training_fit) %>%\n",
    "filter(.metric == \"accuracy\")\n",
    "\n",
    "audit_training_k_plot <- audit_training_metrics %>%\n",
    "ggplot(aes(x = neighbors, y = mean)) +\n",
    "geom_point() +\n",
    "geom_line() +\n",
    "labs(x = \"K Value\", y = \"Mean Accuracy\") +\n",
    "theme(text = element_text(size = 20)) +\n",
    "ggtitle(\"Accuracy of Various K's in 5 fold Cross Validation for Audit Training Data\") +\n",
    "scale_x_continuous(breaks = 2 * c(1:25))\n",
    "\n",
    "audit_training_k_plot"
   ]
  },
  {
   "cell_type": "markdown",
   "metadata": {},
   "source": [
    "#### [Figure 1.22]. K Value: The K value for each model. Mean Accuracy: The average accuracy of predicted vs truth in the cross-validation."
   ]
  },
  {
   "cell_type": "markdown",
   "metadata": {},
   "source": [
    "Earlier in the analysis, in 1.21, we stated that we arbitrarily chose the range for K at 1 to 50. It doesn't appear that accuracy will increase past K = 50, so we will keep K = 5 as our optimum K value.\n",
    "\n",
    "Judging from the graph, it appears that we have an optimum K at 5. However, we should still pick the K with the highest accuracy by sorting the metrics by accuracy descending and then pulling the K value from the head of the data set:"
   ]
  },
  {
   "cell_type": "code",
   "execution_count": 22,
   "metadata": {},
   "outputs": [
    {
     "data": {
      "text/html": [
       "<span style=white-space:pre-wrap>'Final K Value:  K =  5'</span>"
      ],
      "text/latex": [
       "'Final K Value:  K =  5'"
      ],
      "text/markdown": [
       "<span style=white-space:pre-wrap>'Final K Value:  K =  5'</span>"
      ],
      "text/plain": [
       "[1] \"Final K Value:  K =  5\""
      ]
     },
     "metadata": {},
     "output_type": "display_data"
    },
    {
     "data": {
      "text/html": [
       "<span style=white-space:pre-wrap>'Accuracy:  92.2390759238706 %'</span>"
      ],
      "text/latex": [
       "'Accuracy:  92.2390759238706 \\%'"
      ],
      "text/markdown": [
       "<span style=white-space:pre-wrap>'Accuracy:  92.2390759238706 %'</span>"
      ],
      "text/plain": [
       "[1] \"Accuracy:  92.2390759238706 %\""
      ]
     },
     "metadata": {},
     "output_type": "display_data"
    }
   ],
   "source": [
    "audit_final_k <- audit_training_metrics %>%\n",
    "arrange(desc(mean)) %>%\n",
    "select(neighbors) %>%\n",
    "head(1) %>%\n",
    "pull()\n",
    "\n",
    "paste(\"Final K Value:  K = \", audit_final_k)\n",
    "audit_final_k_acc <- audit_training_metrics %>%\n",
    "filter(neighbors == audit_final_k) %>%\n",
    "select(mean) %>%\n",
    "pull()\n",
    "\n",
    "paste(\"Accuracy: \", audit_final_k_acc * 100, \"%\")"
   ]
  },
  {
   "cell_type": "markdown",
   "metadata": {},
   "source": [
    "We arrive at a K value of 5 with an accuracy of around 92.2%, which is fairly high. Since we used cross validation to determine our K and test our model for K=5, we should have a similar accuracy value for the testing data. Next, we will create our model using the determined K value.\n",
    "\n",
    "The same recipe can be used from earlier, as we still want to create the model with the training data rather than the testing data. We will create a new spec because we want to use our specific K value of 5 rather than tune().\n",
    "\n",
    "The model and recipe are combined together, and then the model is fit onto the training data, creating our final fit that we can use to predict the Risk factor."
   ]
  },
  {
   "cell_type": "code",
   "execution_count": 23,
   "metadata": {},
   "outputs": [],
   "source": [
    "set.seed(1009)\n",
    "\n",
    "audit_final_spec <- nearest_neighbor(weight_func = \"rectangular\", neighbors = audit_final_k) %>%\n",
    "set_engine(\"kknn\") %>%\n",
    "set_mode(\"classification\")\n",
    "\n",
    "audit_final_fit <- workflow() %>%\n",
    "add_recipe(audit_training_recipe) %>%\n",
    "add_model(audit_final_spec) %>%\n",
    "fit(data = audit_training)"
   ]
  },
  {
   "cell_type": "markdown",
   "metadata": {},
   "source": [
    "## 1.3 Testing the Model on the Testing Data\n",
    "\n",
    "### 1.31 Predicting\n",
    "\n",
    "Our final model has been created with the training data. Let's predict our testing data and produce the table to see roughly how accurate our model is:"
   ]
  },
  {
   "cell_type": "code",
   "execution_count": 24,
   "metadata": {},
   "outputs": [
    {
     "data": {
      "text/html": [
       "<table>\n",
       "<caption>A tibble: 12 × 2</caption>\n",
       "<thead>\n",
       "\t<tr><th scope=col>Risk</th><th scope=col>.pred_class</th></tr>\n",
       "\t<tr><th scope=col>&lt;fct&gt;</th><th scope=col>&lt;fct&gt;</th></tr>\n",
       "</thead>\n",
       "<tbody>\n",
       "\t<tr><td>1</td><td>1</td></tr>\n",
       "\t<tr><td>0</td><td>0</td></tr>\n",
       "\t<tr><td>0</td><td>0</td></tr>\n",
       "\t<tr><td>0</td><td>0</td></tr>\n",
       "\t<tr><td>1</td><td>1</td></tr>\n",
       "\t<tr><td>1</td><td>1</td></tr>\n",
       "\t<tr><td>1</td><td>1</td></tr>\n",
       "\t<tr><td>0</td><td>0</td></tr>\n",
       "\t<tr><td>1</td><td>1</td></tr>\n",
       "\t<tr><td>0</td><td>0</td></tr>\n",
       "\t<tr><td>1</td><td>1</td></tr>\n",
       "\t<tr><td>0</td><td>0</td></tr>\n",
       "</tbody>\n",
       "</table>\n"
      ],
      "text/latex": [
       "A tibble: 12 × 2\n",
       "\\begin{tabular}{ll}\n",
       " Risk & .pred\\_class\\\\\n",
       " <fct> & <fct>\\\\\n",
       "\\hline\n",
       "\t 1 & 1\\\\\n",
       "\t 0 & 0\\\\\n",
       "\t 0 & 0\\\\\n",
       "\t 0 & 0\\\\\n",
       "\t 1 & 1\\\\\n",
       "\t 1 & 1\\\\\n",
       "\t 1 & 1\\\\\n",
       "\t 0 & 0\\\\\n",
       "\t 1 & 1\\\\\n",
       "\t 0 & 0\\\\\n",
       "\t 1 & 1\\\\\n",
       "\t 0 & 0\\\\\n",
       "\\end{tabular}\n"
      ],
      "text/markdown": [
       "\n",
       "A tibble: 12 × 2\n",
       "\n",
       "| Risk &lt;fct&gt; | .pred_class &lt;fct&gt; |\n",
       "|---|---|\n",
       "| 1 | 1 |\n",
       "| 0 | 0 |\n",
       "| 0 | 0 |\n",
       "| 0 | 0 |\n",
       "| 1 | 1 |\n",
       "| 1 | 1 |\n",
       "| 1 | 1 |\n",
       "| 0 | 0 |\n",
       "| 1 | 1 |\n",
       "| 0 | 0 |\n",
       "| 1 | 1 |\n",
       "| 0 | 0 |\n",
       "\n"
      ],
      "text/plain": [
       "   Risk .pred_class\n",
       "1  1    1          \n",
       "2  0    0          \n",
       "3  0    0          \n",
       "4  0    0          \n",
       "5  1    1          \n",
       "6  1    1          \n",
       "7  1    1          \n",
       "8  0    0          \n",
       "9  1    1          \n",
       "10 0    0          \n",
       "11 1    1          \n",
       "12 0    0          "
      ]
     },
     "metadata": {},
     "output_type": "display_data"
    }
   ],
   "source": [
    "set.seed(992)\n",
    "\n",
    "audit_tested <- bind_cols(audit_testing %>% select(Risk), predict(audit_final_fit, audit_testing))\n",
    "\n",
    "head(audit_tested, 12)"
   ]
  },
  {
   "cell_type": "markdown",
   "metadata": {},
   "source": [
    "#### [Table 1.31]. Risk: The predicted class, whether or not a firm is considered fraudulent. .pred_class: the predicted class based on the model."
   ]
  },
  {
   "cell_type": "markdown",
   "metadata": {},
   "source": [
    "From Table 1.31, it appears that our model has done a pretty good job of predicting whether or not a firm is fraudulent based on the predictor variables. Next, let's visualize our results.\n",
    "\n",
    "### 1.32 Results\n",
    "\n",
    "To determine the accuracy of our model, we can use metrics() on audit_tested. After using metrics(), let's filter for only accuracy since that's the only statistic we are interested in seeing."
   ]
  },
  {
   "cell_type": "code",
   "execution_count": 29,
   "metadata": {},
   "outputs": [
    {
     "data": {
      "text/html": [
       "<table>\n",
       "<caption>A tibble: 1 × 3</caption>\n",
       "<thead>\n",
       "\t<tr><th scope=col>.metric</th><th scope=col>.estimator</th><th scope=col>.estimate</th></tr>\n",
       "\t<tr><th scope=col>&lt;chr&gt;</th><th scope=col>&lt;chr&gt;</th><th scope=col>&lt;dbl&gt;</th></tr>\n",
       "</thead>\n",
       "<tbody>\n",
       "\t<tr><td>accuracy</td><td>binary</td><td>0.9263566</td></tr>\n",
       "</tbody>\n",
       "</table>\n"
      ],
      "text/latex": [
       "A tibble: 1 × 3\n",
       "\\begin{tabular}{lll}\n",
       " .metric & .estimator & .estimate\\\\\n",
       " <chr> & <chr> & <dbl>\\\\\n",
       "\\hline\n",
       "\t accuracy & binary & 0.9263566\\\\\n",
       "\\end{tabular}\n"
      ],
      "text/markdown": [
       "\n",
       "A tibble: 1 × 3\n",
       "\n",
       "| .metric &lt;chr&gt; | .estimator &lt;chr&gt; | .estimate &lt;dbl&gt; |\n",
       "|---|---|---|\n",
       "| accuracy | binary | 0.9263566 |\n",
       "\n"
      ],
      "text/plain": [
       "  .metric  .estimator .estimate\n",
       "1 accuracy binary     0.9263566"
      ]
     },
     "metadata": {},
     "output_type": "display_data"
    }
   ],
   "source": [
    "audit_final_metrics <- metrics(audit_tested, truth = Risk, estimate = .pred_class) %>%\n",
    "filter(.metric == \"accuracy\")\n",
    "\n",
    "audit_final_metrics"
   ]
  },
  {
   "cell_type": "markdown",
   "metadata": {},
   "source": [
    "#### [Table 1.32]. .metric: the type of metric measured. .estimator: binary because we had exactly two classes. .estimate: our accuracy."
   ]
  },
  {
   "cell_type": "markdown",
   "metadata": {},
   "source": [
    "The final accuracy comes out as about 92.6%. The accuracy for the cross validation depicted in Figure 1.22 is very similar at 92.2%.\n",
    "\n",
    "Let's investigate further by checking the confusion matrix to see if the model tended to falsely predict Risk == 0 as Risk == 1 or Risk == 1 as Risk == 0. We can use conf_mat with the same arguments as we did for Table 1.32."
   ]
  },
  {
   "cell_type": "code",
   "execution_count": 30,
   "metadata": {},
   "outputs": [
    {
     "data": {
      "text/plain": [
       "          Truth\n",
       "Prediction   0   1\n",
       "         0 155  17\n",
       "         1   2  84"
      ]
     },
     "metadata": {},
     "output_type": "display_data"
    }
   ],
   "source": [
    "audit_final_mat <- conf_mat(audit_tested, truth = Risk, estimate = .pred_class)\n",
    "\n",
    "audit_final_mat"
   ]
  },
  {
   "cell_type": "markdown",
   "metadata": {},
   "source": [
    "#### [Figure 1.31]. Truth: Risk == 0 or Risk == 1. Prediction: Risk == 0 or Risk == 1. Diagonal: The amount of predictions that had a truth equal to truth and a prediction equal to prediction."
   ]
  },
  {
   "cell_type": "markdown",
   "metadata": {},
   "source": [
    "Interestingly, it appears that there were many more predictions that were false negatives. There were 17 firms determined to be fraudulent by the data but not detected as fraudulent by our KNN classification model. However, there were only 2 firms determined to be non-fraudulent by the data but detected as fraudulent by our KNN model.\n",
    "\n",
    "This could be explained by some variable that indicates fraud missing from our model. One possible problem with our model is the lack of non-monetary variables involved. All three of our variables involve quantitative measures of money, but fraud does not necessarily only encapsulate falsification with respect to money. If employee count or location count were options for variables, they could also be predictors that do not involve money. Fraudulent institutions might have less employees and only one headquarters."
   ]
  },
  {
   "cell_type": "markdown",
   "metadata": {},
   "source": [
    "## 1.4 Outcomes and Significance\n",
    "\n",
    "[...]"
   ]
  },
  {
   "cell_type": "markdown",
   "metadata": {},
   "source": [
    "## 1.5 References\n",
    "\n",
    "Audit Data Set: https://archive.ics.uci.edu/ml/datasets/Audit+Data\n",
    "\n",
    "Citation Request for Audit Data Set: \"This research work is supported by Ministry of Electronics and Information Technology (MEITY), Govt.of India\"\n",
    "\n",
    "Reference format: [First name, Middle name(s), Last name. First Name, Middle name(s), Last Name...etc.] Title. Year of publication. \\<link to article\\>\n",
    "\n",
    "Citation format: (\\<Last name of first author\\> \\<Year of publication\\>)\n",
    "\n",
    "[Chi-Chen, Lin. An-An, Chiu. Shaio, Yan, Huang. David, C., Yen.] Detecting the financial statement fraud: The analysis of the differences between data mining techniques and experts’ judgments. 2015. https://doi.org/10.1016/j.knosys.2015.08.011\n",
    "\n",
    "[Nishtha, Hooda. Seema, Bawa. Prashant, Singh, Rana.] Fraudulent Firm Classification: A Case Study of an External Audit. 2018. https://doi.org/10.1080/08839514.2018.1451032 => Non pay-walled link:https://www.researchgate.net/publication/323655455_Fraudulent_Firm_Classification_A_Case_Study_of_an_External_Audit\n",
    "\n",
    "[Petr, Hajek. Roberto, Henriques.] Mining corporate annual reports for intelligent detection of financial statement fraud – A comparative study of machine learning methods. 2017. https://doi.org/10.1016/j.knosys.2017.05.001\n",
    "\n",
    "[Zabihollah, Rezaee.] Causes, consequences, and deterence of financial statement fraud. 2002.\n",
    "https://doi.org/10.1016/S1045-2354(03)00072-8"
   ]
  },
  {
   "cell_type": "code",
   "execution_count": null,
   "metadata": {},
   "outputs": [],
   "source": []
  }
 ],
 "metadata": {
  "kernelspec": {
   "display_name": "R",
   "language": "R",
   "name": "ir"
  },
  "language_info": {
   "codemirror_mode": "r",
   "file_extension": ".r",
   "mimetype": "text/x-r-source",
   "name": "R",
   "pygments_lexer": "r",
   "version": "4.0.0"
  }
 },
 "nbformat": 4,
 "nbformat_minor": 4
}
